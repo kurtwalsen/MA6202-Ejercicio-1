{
 "cells": [
  {
   "cell_type": "markdown",
   "metadata": {
    "colab_type": "text",
    "id": "71GSP9WhlO-c"
   },
   "source": [
    "# MA6202: Laboratorio de Ciencia de Datos\n",
    "\n",
    "**Profesor: Nicolás Caro**\n",
    "\n",
    "**05/06/2020 - E2 S9**\n",
    "\n",
    "\n",
    "**Integrantes del grupo**: Camila Goméz;\n",
    "                           Sebastián López;\n",
    "                           Kurt Walsen"
   ]
  },
  {
   "cell_type": "markdown",
   "metadata": {
    "colab_type": "text",
    "id": "ugBjEa-blO-h"
   },
   "source": [
    "## Ejercicio 2\n",
    "\n",
    "La estructura de esta evaluación consta de 5 preguntas. Tenga en cuenta que un problema de programación puede (por lo general) resolverse de múltiples maneras. Sin embargo, para optar al puntaje completo en cada pregunta, siga las indicaciones de los enunciados y utilice solo herramientas vistas en el curso. \n",
    "\n",
    "En lo que sigue de la evaluación, **no** estará permitido usar librerías ni módulos diferentes a los declarados en la siguiente celda."
   ]
  },
  {
   "cell_type": "code",
   "execution_count": 1,
   "metadata": {
    "colab": {
     "base_uri": "https://localhost:8080/",
     "height": 159,
     "resources": {
      "http://localhost:8080/nbextensions/google.colab/files.js": {
       "data": "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",
       "headers": [
        [
         "content-type",
         "application/javascript"
        ]
       ],
       "ok": true,
       "status": 200,
       "status_text": ""
      }
     }
    },
    "colab_type": "code",
    "id": "Idy76RaillDr",
    "outputId": "489d440e-db06-4913-f65f-0a524b81cfd5"
   },
   "outputs": [],
   "source": [
    "# Fue necesario para poder usar Google Colaboratory\n",
    "#from google.colab import files\n",
    "#uploaded = files.upload()"
   ]
  },
  {
   "cell_type": "code",
   "execution_count": 2,
   "metadata": {
    "colab": {
     "base_uri": "https://localhost:8080/",
     "height": 71
    },
    "colab_type": "code",
    "id": "efoVkwP0lO-m",
    "outputId": "cd241da6-d70e-4c0c-d6fa-d5a73a21ed4f"
   },
   "outputs": [],
   "source": [
    "# %load_ext autoreload\n",
    "# %autoreload 2\n",
    "# En colab no se cargan los _ext\n",
    "%load_ext line_profiler\n",
    "%load_ext cython\n",
    "\n",
    "import pandas as pd\n",
    "import numpy as np\n",
    "import seaborn as sns\n",
    "import matplotlib.pyplot as plt\n",
    "import itertools\n",
    "import pickle as pk\n",
    "import os\n",
    "import warnings\n",
    "import math\n",
    "import glob\n",
    "\n",
    "from scipy import stats\n",
    "from functools import lru_cache\n",
    "from scipy import sparse \n",
    "from sklearn.base import BaseEstimator, ClassifierMixin\n",
    "from sklearn.metrics import accuracy_score, f1_score\n",
    "from sklearn.model_selection import train_test_split\n",
    "from sklearn.compose import ColumnTransformer\n",
    "from sklearn.preprocessing import StandardScaler, MinMaxScaler, OneHotEncoder\n",
    "from multiprocessing import Process, cpu_count"
   ]
  },
  {
   "cell_type": "markdown",
   "metadata": {
    "colab_type": "text",
    "id": "O8cu6LgGlO--"
   },
   "source": [
    "El objetivo de este ejercicio es implementar **eficientemente** el algoritmo de regresión logística bayesiana, entrenado mediante un método de Markov Chain Montecarlo (MCMC), específicamente Metropolis-Hastings.\n",
    "\n",
    "Para trabajar en esta evaluación, construya un repositorio Git y resuelva las preguntas de este notebook utilizando tal repositorio. El formato de entrega es un archivo **.zip** con el repositorio correspondiente a este trabajo, no olvide incluir la carpeta `.git` asociada."
   ]
  },
  {
   "cell_type": "markdown",
   "metadata": {
    "colab_type": "text",
    "id": "WiH8T8S7lO--"
   },
   "source": [
    "### Preliminares\n",
    "\n",
    "Se trabajará en un problema de **clasificación binaria** sobre un conjunto de datos. Tal conjunto, describe  el comportamiento de clientes en un banco frente a una llamada telefónica, en la cual se les ofrece un depósito a plazo. \n",
    "\n",
    "La variable objetivo del conjunto de datos describe si el cliente se subscribió o no luego de la llamada. Si bien no es necesario entender el significado de cada variable para el correcto desarrollo del ejercicio, en `data/readme.md` encontrarán una descripción de estas.\n",
    "\n",
    "#### Carga de datos\n",
    "Compruebe que la siguiente celda coincide con este output:\n",
    "\n",
    "```\n",
    "<class 'pandas.core.frame.DataFrame'>\n",
    "RangeIndex: 11162 entries, 0 to 11161\n",
    "Data columns (total 17 columns):\n",
    " #   Column        Non-Null Count  Dtype   \n",
    "---  ------        --------------  -----   \n",
    " 0   age           11162 non-null  int8    \n",
    " 1   job           11162 non-null  category\n",
    " 2   marital       11162 non-null  category\n",
    " 3   education     11162 non-null  category\n",
    " 4   default       11162 non-null  bool    \n",
    " 5   balance       11162 non-null  int64   \n",
    " 6   housing       11162 non-null  bool    \n",
    " 7   loan          11162 non-null  bool    \n",
    " 8   contact       11162 non-null  category\n",
    " 9   month         11162 non-null  category\n",
    " 10  campaign      11162 non-null  int64   \n",
    " 11  pdays         11162 non-null  int64   \n",
    " 12  previous      11162 non-null  int64   \n",
    " 13  poutcome      11162 non-null  category\n",
    " 14  outcome       11162 non-null  bool    \n",
    " 15  day_of_week   11162 non-null  category\n",
    " 16  log_duration  11162 non-null  float64 \n",
    "dtypes: bool(4), category(7), float64(1), int64(4), int8(1)\n",
    "memory usage: 568.7 KB\n",
    "```"
   ]
  },
  {
   "cell_type": "code",
   "execution_count": 3,
   "metadata": {
    "colab": {
     "base_uri": "https://localhost:8080/",
     "height": 425
    },
    "colab_type": "code",
    "id": "y-mCABBllO_D",
    "outputId": "8424486a-52e1-43ce-cd13-200063b8292b"
   },
   "outputs": [
    {
     "name": "stdout",
     "output_type": "stream",
     "text": [
      "<class 'pandas.core.frame.DataFrame'>\n",
      "RangeIndex: 11162 entries, 0 to 11161\n",
      "Data columns (total 17 columns):\n",
      "age             11162 non-null int8\n",
      "job             11162 non-null category\n",
      "marital         11162 non-null category\n",
      "education       11162 non-null category\n",
      "default         11162 non-null bool\n",
      "balance         11162 non-null int64\n",
      "housing         11162 non-null bool\n",
      "loan            11162 non-null bool\n",
      "contact         11162 non-null category\n",
      "month           11162 non-null category\n",
      "campaign        11162 non-null int64\n",
      "pdays           11162 non-null int64\n",
      "previous        11162 non-null int64\n",
      "poutcome        11162 non-null category\n",
      "outcome         11162 non-null bool\n",
      "day_of_week     11162 non-null category\n",
      "log_duration    11162 non-null float64\n",
      "dtypes: bool(4), category(7), float64(1), int64(4), int8(1)\n",
      "memory usage: 568.7 KB\n"
     ]
    }
   ],
   "source": [
    "#with open('trans_bank_marketing_codes-dtype.pk', 'rb') as file: #Colab\n",
    "with open('data/trans_bank_marketing_codes-dtype.pk', 'rb') as file:\n",
    "    \n",
    "    dtypes_dict = pk.load(file)\n",
    "\n",
    "#reg_df = pd.read_csv('trans_bank_marketing_codes.csv', dtype=dtypes_dict) #Colab\n",
    "reg_df = pd.read_csv('data/trans_bank_marketing_codes.csv', dtype=dtypes_dict)\n",
    "reg_df.info()"
   ]
  },
  {
   "cell_type": "markdown",
   "metadata": {
    "colab_type": "text",
    "id": "TJaFp5CPlO_d"
   },
   "source": [
    "#### Preprocesamiento\n",
    "\n",
    "Los datos son cargados y preprocesados según las herramientas vistas en el curso"
   ]
  },
  {
   "cell_type": "code",
   "execution_count": 4,
   "metadata": {
    "colab": {},
    "colab_type": "code",
    "id": "Wz3R7gw9lO_d"
   },
   "outputs": [],
   "source": [
    "# separar variables explicativas de objetivo\n",
    "X = reg_df.loc[:, reg_df.columns[reg_df.columns != 'outcome']]\n",
    "y = reg_df['outcome']\n",
    "\n",
    "# separar conjuntos de entrenamiento y prueba\n",
    "X_train, X_test, y_train, y_test = train_test_split(\n",
    "    X, y, test_size=0.25, random_state=42)\n",
    "\n",
    "# categorizar las columnas para ColumnTransformer\n",
    "\n",
    "int_cols = X_train.select_dtypes('int64').columns.tolist()\n",
    "float_cols = X_train.select_dtypes('float64').columns.tolist()\n",
    "bool_cols = X_train.select_dtypes('bool').columns.tolist()\n",
    "\n",
    "one_hot_cols = X_train.select_dtypes('category').columns.tolist() + \\\n",
    "    X_train.select_dtypes('int8').columns.tolist()\n",
    "\n",
    "# inicializar ColumnTransformer\n",
    "col_trans = ColumnTransformer([\n",
    "    ('continuous_std', StandardScaler(), float_cols),\n",
    "    ('minmax', MinMaxScaler(), int_cols),\n",
    "    ('passthrough_bool', 'passthrough', bool_cols),\n",
    "    ('one_hot', OneHotEncoder(drop='first'), one_hot_cols)\n",
    "])\n",
    "\n",
    "# asegurar todas las columnas del conjunto de datos son utilizadas\n",
    "assert X.columns.isin(int_cols + float_cols + bool_cols + one_hot_cols).all(), \\\n",
    "    'No todas las columnas son consideradas en ColumnTransformer'\n",
    "\n",
    "# obtener los arreglos que se utilizaran en el ejercicio\n",
    "X_mcmc = col_trans.fit_transform(X_train)\n",
    "X_mcmc = sparse.hstack((np.ones((X_mcmc.shape[0], 1)), X_mcmc))\n",
    "y_mcmc = y_train.astype(int).values"
   ]
  },
  {
   "cell_type": "markdown",
   "metadata": {
    "colab_type": "text",
    "id": "0W4F41AhlO_0"
   },
   "source": [
    "### Regresión logística Bayesiana\n",
    "\n",
    "Dado un conjunto de observaciones para un problema de clasificación binario $\\mathcal{D}= \\{(\\mathbf{x}_i, y_i)\\}_{i=1}^{N} \\in \\mathbb{R}^{d} \\times \\{0,1\\}$ el modelo de regresión logística se determina por:\n",
    "\n",
    "$$\n",
    "p(y_i = 1 | \\mathbf{x}) = \\sigma(\\mathbf{w}^T\\mathbf{x})\n",
    "$$\n",
    "\n",
    "donde:\n",
    "$$\n",
    "\\sigma(\\mathbf{w}^T\\mathbf{x}) = \\frac{1}{1 + \\exp{(- \\mathbf{w}^T\\mathbf{x}})}\n",
    "$$\n",
    "\n",
    "Se asume la convención $\\mathbf{x}_i = (x_i, 1) \\forall i$, $x_i$ vector de características, esto permite codificar $\\mathbf{w} \\in \\mathbb{R}^{d}$. La verosimilitud asociada a este modelo viene dada por:\n",
    "\n",
    "$$\n",
    "p(\\mathbf{y} | \\mathbf{w})=\\prod_{n=1}^{N}  \\sigma(\\mathbf{w}^T\\mathbf{x}_n)^{y_n}\\left\\{1-\\sigma(\\mathbf{w}^T\\mathbf{x}_n)\\right\\}^{1-y_n}\n",
    "$$\n",
    "\n",
    "Si se escoge una probabilidad *prior* normal isotrópica $p(\\mathbf{w})= \\mathcal{N}\\left(\\mathbf{w} | \\mathrm{\\mu}_{w}, \\sigma_w^2 I \\right)$, el calculo de la distribución posterior $p(\\mathbf{w} | \\mathbf{y})$ se vuelve intratable. Esto pues, se hace necesario normalizar el producto de las probabilidades $p(\\mathbf{y} | \\mathbf{w})p(\\mathbf{w})$, para lo cual no se tiene una expresión analítica. Por tal motivo, la distribución posterior predictiva\n",
    "\n",
    "$$\n",
    "p(\\mathbf{y}_{*} | \\mathbf{w},\\mathbf{x}_{*}) = \\int \\sigma(\\mathbf{w}^T\\mathbf{x}_*) p(\\mathbf{w} | \\mathbf{y}) d\\mathbf{w}\n",
    "$$\n",
    "\n",
    "no puede ser calculada de manera explicita. Se busca por tanto, aproximar la probabilidad posterior $p(\\mathbf{w} | \\mathbf{y})$ y utilizar dicha aproximación para hacer predicciones por medio de $p(\\mathbf{y} | \\mathbf{w})$."
   ]
  },
  {
   "cell_type": "markdown",
   "metadata": {
    "colab_type": "text",
    "id": "D1Pzn9ftlO_-"
   },
   "source": [
    "### Pregunta 1\n",
    "\n",
    "Para comenzar, se definen los objetos necesarios para capturar el modelo de regresión logística bayesiana.\n",
    "\n",
    "1. Defina con `numpy` la función sigmoide y la log verosimilitud de la regresión logística. Compruebe que para el vector `w_inicial` obtiene aproximadamente `-3271`."
   ]
  },
  {
   "cell_type": "code",
   "execution_count": 6,
   "metadata": {
    "colab": {
     "base_uri": "https://localhost:8080/",
     "height": 34
    },
    "colab_type": "code",
    "id": "xOIZ5lgBlO__",
    "outputId": "37706eab-d0c1-4319-a947-562e54f813dc"
   },
   "outputs": [
    {
     "data": {
      "text/plain": [
       "-3270.759266267652"
      ]
     },
     "execution_count": 6,
     "metadata": {},
     "output_type": "execute_result"
    }
   ],
   "source": [
    "class RegresionLogisticaMixin():\n",
    "    '''Clase Mixin para el calculo de la log verosimilitud de un modelo \n",
    "    de regresion logistica'''\n",
    "    \n",
    "    def sigmoide(self, x):\n",
    "        return 1/(1+np.exp(-x))\n",
    "        \n",
    "    # metodo protegido (por compatibilidad de version posterior)\n",
    "    def _log_verosimilitud(self, w, X, y):\n",
    "        var = X@w\n",
    "        sigs = self.sigmoide(var)\n",
    "        return np.sum( y@np.log(sigs) + (1-y)@np.log(1-sigs) )\n",
    "\n",
    "#w_inicial = np.load('w_inicial.npy') # Colab\n",
    "w_inicial = np.load('modelos/w_inicial.npy')\n",
    "RegresionLogisticaMixin()._log_verosimilitud(w_inicial, X_mcmc, y_mcmc)"
   ]
  },
  {
   "cell_type": "code",
   "execution_count": 7,
   "metadata": {
    "colab": {
     "base_uri": "https://localhost:8080/",
     "height": 34
    },
    "colab_type": "code",
    "id": "QEBMVQnrlPAa",
    "outputId": "a41ee075-7d50-454e-8b16-1822f739bef9"
   },
   "outputs": [
    {
     "data": {
      "text/plain": [
       "numpy.ndarray"
      ]
     },
     "execution_count": 7,
     "metadata": {},
     "output_type": "execute_result"
    }
   ],
   "source": [
    "type(w_inicial)"
   ]
  },
  {
   "cell_type": "markdown",
   "metadata": {
    "colab_type": "text",
    "id": "JUyn9yQQlPA3"
   },
   "source": [
    "### MCMC\n",
    "\n",
    "Para lograr la aproximación de $p(\\mathbf{y} | \\mathbf{w})$ se utiliza un esquema de *Markov Chain Monte Carlo* (MCMC). Este se basa en la construcción de una cadena de Markov con distribución estacionaria \n",
    "$p(\\mathbf{w} | \\mathbf{y})$. Para construir esta cadena, se generan muestras de $\\mathbf{w}$ en el espacio de estados $\\mathbb{R}^d$ por medio de una distribución generadora de propuestas $q(\\mathbf{w})$. Luego se define una regla de transición, por medio del cual se evalúa si las muestras propuestas son aceptadas como representantes de $p(\\mathbf{w} | \\mathbf{y})$. \n",
    "\n",
    "El resultado del esquema MCMC es un conjunto de muestras provenientes de la distribución posterior deseada. Es conjunto de muestras se denota como **traza**. Para comprender la dinámica de selección de muestras consideremos el siguiente caso:\n",
    "\n",
    "Supongamos que se acepta la muestra $\\mathbf{w}_1$, luego se genera una nueva muestra (propuesta) $\\mathbf{w}_2$ por medio de $q(\\cdot| \\mathbf{w}_1)$. Para evaluar si esta nueva muestra es aceptada como miembro de la cadena,  se define el *coeficiente de aceptación* $\\alpha ( \\mathbf{w}_1 , \\mathbf{w}_2 ) = \\min \\left[ 1 , \\frac { p ( \\mathbf{w}_2 | \\mathbf{y})  q ( \\mathbf{w}_1 | \\mathbf{w}_2 ) } { p ( \\mathbf{w}_1 | \\mathbf{y}) q (\\mathbf{w}_2 | \\mathbf{w}_1 ) } \\right]$. No se conoce el valor de  $p ( \\mathbf{w} | \\mathbf{y})$ pero se sabe que\n",
    "\n",
    "$$\n",
    "p(\\mathbf{w} | \\mathbf{y}) \\propto p(\\mathbf{y} | \\mathbf{w})p(\\mathbf{w})\n",
    "$$\n",
    "\n",
    "Luego \n",
    "\n",
    "$$\n",
    "\\frac { p ( \\mathbf{w}_2 | \\mathbf{y})  q ( \\mathbf{w}_1 | \\mathbf{w}_2 ) } { p ( \\mathbf{w}_1 | \\mathbf{y}) q (\\mathbf{w}_2 | \\mathbf{w}_1 ) } \n",
    "=\n",
    "\\frac { p(\\mathbf{y} | \\mathbf{w}_2)q ( \\mathbf{w}_1 | \\mathbf{w}_2 ) p(\\mathbf{w}_2)}{ p(\\mathbf{y} | \\mathbf{w}_1) q (\\mathbf{w}_2 | \\mathbf{w}_1 )p(\\mathbf{w}_1) }\n",
    "$$\n",
    "\n",
    "Lo cual nos permite simular muestras de la posterior por medio de evaluaciones de la verosimilitud y prior del modelo. La variante de MCMC propuesta en este ejercicio de conoce como *Metropolis Hastings*. El algoritmo se describe a continuación:\n",
    "\n",
    "0. Como entrada del algoritmo se requiere $\\mathbf{w}_0$, la verosimilitud del modelo, la probabilidad prior para $\\mathbf{w}$ y una distribución generadora de propuestas $q(\\cdot)$. Como salida del algoritmo se tendrán `N` vectores `w_1`, ..., `w_N`.\n",
    "\n",
    "1. Para `i=1` hasta `N`:\n",
    "    1. Obtener una muestra `w_prop` de $q(\\cdot |\\mathbf{w}_{i-1})$.\n",
    "    2. Obtener una muestra de una variable aleatoria uniforme $U$.\n",
    "    3. Si $U < \\frac { p(\\mathbf{y} | \\mathbf{w}_{prop})q ( \\mathbf{w}_{i-1} | \\mathbf{w}_{prop} ) p(\\mathbf{w}_{prop})}{ p(\\mathbf{y} | \\mathbf{w}_{i-1}) q (\\mathbf{w}_{prop} | \\mathbf{w}_1 )p(\\mathbf{w}_{i-1}) }$ entonces $\\mathbf{w}_i =$ `w_prop`. En caso contrario $\\mathbf{w}_i = \\mathbf{w}_{i-1}$.\n",
    "\n",
    "Dado que la convergencia a $p(\\mathbf{w} | \\mathbf{y})$ se tiene en el infinito, las primeras muestras obtenidas por la cadena no son recomendables como representantes de la distribución posterior, eliminar cierta cantidad de muestras al inicio de la cadena se denomina *quemar la cadena*. Por otra parte, dado que las muestras obtenidas provienen de una cadena de Markov, estas son altamente dependientes entre si, por lo que se recomienda seleccionar muestras de la traza cada cierta cantidad de *saltos* o *leaps* para evitar dependencia entre las muestras obtenidas. Por último, si se posee un conjunto de muestras $\\mathbf{w}_1, ..., \\mathbf{w}_M$ provenientes de $p(\\mathbf{w} | \\mathbf{y})$, es posible aproximar la distribución posterior predictiva por medio de:\n",
    "\n",
    "$$\n",
    "p(\\mathbf{y}_{*} | \\mathbf{w},\\mathbf{x}_{*}) = \\int \\sigma(\\mathbf{w}^T\\mathbf{x}_*) p(\\mathbf{w} | \\mathbf{y}) d\\mathbf{w} \\approx \\frac{1}{M} \\sum_{i = 1}^{M} \\sigma(\\mathbf{w}_i^T\\mathbf{x}_{*})\n",
    "$$\n",
    "\n",
    "\n",
    "A continuación se implementa dicho algoritmo para una distribución de propuestas normal isotrópica. Estudie con antención el código."
   ]
  },
  {
   "cell_type": "code",
   "execution_count": 8,
   "metadata": {
    "colab": {},
    "colab_type": "code",
    "id": "tkgmWjF1lPA3"
   },
   "outputs": [],
   "source": [
    "class RegresionLogisticaBayesianaMHV0(\n",
    "        BaseEstimator, ClassifierMixin, RegresionLogisticaMixin):\n",
    "\n",
    "    def __init__(\n",
    "            self, w_inicial, media_priori, std_priori, std_proposal, n_muestras):\n",
    "\n",
    "        # parametros metropolis hastings\n",
    "        self.w_inicial = w_inicial\n",
    "        self.media_priori = media_priori\n",
    "        self.std_priori = std_priori\n",
    "        self.std_proposal = std_proposal\n",
    "        self.n_muestras = n_muestras\n",
    "\n",
    "        # atributos inferidos\n",
    "        self.dim_parametros = self.w_inicial.shape[0]\n",
    "        self.traza = np.zeros((self.n_muestras + 1, self.dim_parametros, ))\n",
    "        self.traza[0] = self.w_inicial\n",
    "\n",
    "    def get_metropolis_hastings_candidatos(self):\n",
    "        '''    \n",
    "        Obtiene las muestras de una normal multivariada isotropica para \n",
    "        utilizarlos como candidatos de la cadena de Markov.\n",
    "        '''\n",
    "        distribucion_candidatos = stats.multivariate_normal(\n",
    "            mean=np.zeros(self.dim_parametros), cov=(\n",
    "                self.std_proposal ** 2) * np.eye(self.dim_parametros))\n",
    "\n",
    "        return distribucion_candidatos.rvs(size=self.n_muestras)\n",
    "\n",
    "    def get_metropolis_hastings_uniformes(self):\n",
    "        '''    \n",
    "        Obtiene las muestras de una normal multivariada isotropica para \n",
    "        utilizarlos como candidatos de la cadena de Markov.\n",
    "        '''\n",
    "\n",
    "        return np.random.uniform(size=(self.n_muestras,))\n",
    "\n",
    "    def get_priori(self):\n",
    "        '''\n",
    "        Prior Gaussiana con media mu_w y covarianza esferica sigma_w**2 I\n",
    "        '''\n",
    "        return stats.multivariate_normal(mean=self.media_priori, cov=(\n",
    "            self.std_priori**2)*np.eye(self.dim_parametros))\n",
    "\n",
    "    def metropolis_hastings(self, X, y, semilla):\n",
    "        '''\n",
    "        Muestrea el espacio de los parametros mediante Metropolis-Hastings\n",
    "        '''\n",
    "\n",
    "        # asegura replicabilidad\n",
    "        np.random.seed(semilla)\n",
    "\n",
    "        # obtiene distribucion a priori y candidatos\n",
    "        distribucion_priori = self.get_priori()\n",
    "        W_candidatos = self.get_metropolis_hastings_candidatos()\n",
    "        U_aceptacion = self.get_metropolis_hastings_uniformes()\n",
    "\n",
    "        # contador de candidatos aceptados\n",
    "        aceptados = 0\n",
    "\n",
    "        for i, w_candidato in enumerate(W_candidatos):\n",
    "\n",
    "            # localiza distribucion candidatos en w_actual\n",
    "            w_actual = self.traza[i]\n",
    "            w_candidato += w_actual\n",
    "\n",
    "            # calcula prior\n",
    "            delta_prior = distribucion_priori.logpdf(w_candidato) - \\\n",
    "                distribucion_priori.logpdf(w_actual)\n",
    "\n",
    "            # calcula verosimilitud\n",
    "            delta_verosimilitud = self._log_verosimilitud(w_candidato, X, y) - \\\n",
    "                self._log_verosimilitud(w_actual, X, y)\n",
    "\n",
    "            # probabilidad de aceptacion\n",
    "            p_aceptacion = math.exp(delta_verosimilitud + delta_prior)\n",
    "\n",
    "            if U_aceptacion[i] < p_aceptacion:\n",
    "\n",
    "                # actualiza valor actual y contador de aceptados\n",
    "                w_actual = w_candidato\n",
    "                aceptados += 1\n",
    "\n",
    "            self.traza[i+1] = w_actual\n",
    "\n",
    "        # almacena la proporcion de candidatos aceptados\n",
    "        self.proporcion_aceptacion = aceptados / self.n_muestras\n",
    "\n",
    "    def fit(self, X, y, n_muestras_quemadas=0, leap=10, semilla=6202):\n",
    "\n",
    "        # obtener traza mediante Metropolis Hastings\n",
    "        self.metropolis_hastings(X, y, semilla)\n",
    "\n",
    "        # obtener muestras posterior\n",
    "        self.w_post = self.traza[n_muestras_quemadas::leap, ]\n",
    "\n",
    "    def predict_proba(self, X):\n",
    "        # Aproximacion de la posterior predictiva\n",
    "        return np.mean(self.sigmoide(X @ self.w_post.T), axis=1)\n",
    "\n",
    "    def predict(self, X):\n",
    "\n",
    "        # maneja aproximacion de 0.5 a 1 (por comportamiento \"round half\n",
    "        # to even\")\n",
    "        return np.round(1 + self.predict_proba(X)) - 1"
   ]
  },
  {
   "cell_type": "markdown",
   "metadata": {
    "colab_type": "text",
    "id": "LfEtGQoQlPBT"
   },
   "source": [
    "Se comprueban los resultados de entrenamiento"
   ]
  },
  {
   "cell_type": "code",
   "execution_count": 9,
   "metadata": {
    "colab": {},
    "colab_type": "code",
    "id": "lDiyQ4K2lPBe"
   },
   "outputs": [],
   "source": [
    "# parametros MCMC\n",
    "_, std_inicial = stats.norm.fit(w_inicial, floc=0)\n",
    "media_prior = np.zeros(w_inicial.shape)\n",
    "std_proposal = 1e-2\n",
    "n_samples = int(1e3) \n",
    "\n",
    "# Entrenamiento\n",
    "rlb_v0 = RegresionLogisticaBayesianaMHV0(w_inicial,media_prior,std_inicial,std_proposal,n_samples)\n",
    "rlb_v0.fit(X_mcmc, y_mcmc)"
   ]
  },
  {
   "cell_type": "code",
   "execution_count": 10,
   "metadata": {
    "colab": {
     "base_uri": "https://localhost:8080/",
     "height": 51
    },
    "colab_type": "code",
    "id": "1ktrJMqulPBw",
    "outputId": "6048ec96-9a5e-43ce-a83d-418a0455bef4"
   },
   "outputs": [
    {
     "name": "stdout",
     "output_type": "stream",
     "text": [
      "Accuracy en conjunto de entrnamiento:  0.8329948632182534\n",
      "Proporcion de muestras aceptadas MCMC: 0.61\n"
     ]
    }
   ],
   "source": [
    "# Resultados\n",
    "ac_rlb = accuracy_score(rlb_v0.predict(X_mcmc), y_mcmc)\n",
    "print('Accuracy en conjunto de entrnamiento: ', ac_rlb)\n",
    "print('Proporcion de muestras aceptadas MCMC:', rlb_v0.proporcion_aceptacion)"
   ]
  },
  {
   "cell_type": "markdown",
   "metadata": {
    "colab_type": "text",
    "id": "VO4R8cXllPCM"
   },
   "source": [
    "### Pregunta 2"
   ]
  },
  {
   "cell_type": "markdown",
   "metadata": {
    "colab_type": "text",
    "id": "vfdS_hQAlPCM"
   },
   "source": [
    "1. Reporte el tiempo de ejecución de cada línea del método `metropolis_hastings` en un archivo de texto llamado `RegresionLogisticaBayesianaMHV0.txt` en la carpeta `reportes`. Compruebe que  más de un 90% del tiempo se utiliza en la función `log_verosimilitud`. En lo que queda del ejercicio nos dedicaremos a optimizar este método. "
   ]
  },
  {
   "cell_type": "code",
   "execution_count": 11,
   "metadata": {
    "colab": {
     "base_uri": "https://localhost:8080/",
     "height": 34
    },
    "colab_type": "code",
    "id": "94QCT1yllPCU",
    "outputId": "564d2810-0555-41c8-93c0-a23b6e63af22"
   },
   "outputs": [
    {
     "name": "stdout",
     "output_type": "stream",
     "text": [
      "\n",
      "*** Profile printout saved to text file 'reportes/RegresionLogisticaBayesianaMHV0.txt'. \n"
     ]
    }
   ],
   "source": [
    "%lprun -T reportes/RegresionLogisticaBayesianaMHV0.txt -f rlb_v0.metropolis_hastings rlb_v0.metropolis_hastings(X_mcmc, y_mcmc, semilla=6202)"
   ]
  },
  {
   "cell_type": "code",
   "execution_count": 12,
   "metadata": {
    "colab": {},
    "colab_type": "code",
    "id": "G2hmTdFIlPCj"
   },
   "outputs": [],
   "source": [
    "%lprun?"
   ]
  },
  {
   "cell_type": "markdown",
   "metadata": {
    "colab_type": "text",
    "id": "U51iGmu-lPDF"
   },
   "source": [
    "### Pregunta 3\n",
    "**Optimice el algoritmo**: \n",
    "\n",
    "1. Haga anulación (*overriding*) del método `metropolis_hastings` para evitar que para un mismo input se compute más de una vez la log verosimilitud y la log probabilidad *a priori*. \n",
    "2. Discuta en la celda subsiguiente por qué el uso de `@lru_cache` no es ideal.\n",
    "3. Reporte el tiempo de ejecución de cada línea del método `metropolis_hastings` en un archivo de texto llamado `RegresionLogisticaBayesianaMHV1.txt` en la carpeta `reportes`."
   ]
  },
  {
   "cell_type": "code",
   "execution_count": 13,
   "metadata": {
    "colab": {},
    "colab_type": "code",
    "id": "ZBDpaqFmlPDF"
   },
   "outputs": [],
   "source": [
    "# construya RegresionLogisticaBayesianaMHV1 aqui\n",
    "class RegresionLogisticaBayesianaMHV1(RegresionLogisticaBayesianaMHV0):\n",
    "\n",
    "    def metropolis_hastings(self, X, y, semilla):\n",
    "        '''\n",
    "        Muestrea el espacio de los parametros mediante Metropolis-Hastings\n",
    "        '''\n",
    "\n",
    "        # asegura replicabilidad\n",
    "        np.random.seed(semilla)\n",
    "\n",
    "        # obtiene distribucion a priori y candidatos\n",
    "        distribucion_priori = self.get_priori()\n",
    "        W_candidatos = self.get_metropolis_hastings_candidatos()\n",
    "        U_aceptacion = self.get_metropolis_hastings_uniformes()\n",
    "\n",
    "        # contador de candidatos aceptados\n",
    "        aceptados = 0\n",
    "        \n",
    "        log_ver_actual = self._log_verosimilitud(self.traza[0], X, y)\n",
    "        for i, w_candidato in enumerate(W_candidatos):\n",
    "\n",
    "            # localiza distribucion candidatos en w_actual\n",
    "            w_actual = self.traza[i]\n",
    "            w_candidato += w_actual\n",
    "\n",
    "            # calcula prior\n",
    "            delta_prior = distribucion_priori.logpdf(w_candidato) - \\\n",
    "                distribucion_priori.logpdf(w_actual)\n",
    "\n",
    "            # calcula verosimilitud\n",
    "            log_ver_candidato = self._log_verosimilitud(w_candidato, X, y)\n",
    "            delta_verosimilitud = log_ver_candidato - \\\n",
    "                log_ver_actual\n",
    "\n",
    "            # probabilidad de aceptacion\n",
    "            p_aceptacion = math.exp(delta_verosimilitud + delta_prior)\n",
    "\n",
    "            if U_aceptacion[i] < p_aceptacion:\n",
    "\n",
    "                # actualiza valor actual y contador de aceptados\n",
    "                w_actual = w_candidato\n",
    "                log_ver_actual = log_ver_candidato\n",
    "                aceptados += 1\n",
    "\n",
    "            self.traza[i+1] = w_actual\n",
    "\n",
    "        # almacena la proporcion de candidatos aceptados\n",
    "        self.proporcion_aceptacion = aceptados / self.n_muestras"
   ]
  },
  {
   "cell_type": "code",
   "execution_count": 14,
   "metadata": {
    "colab": {},
    "colab_type": "code",
    "id": "h9WrySmdlPDb"
   },
   "outputs": [],
   "source": [
    "@lru_cache?"
   ]
  },
  {
   "cell_type": "markdown",
   "metadata": {
    "colab_type": "text",
    "id": "DyLuuISAlPDy"
   },
   "source": [
    "**Escriba su discusión aquí.** (Extensión máxima 400 caracteres).\n",
    "1. El decorador lru_cache requiere (según su documentación) que los objetos que se agreguen al cache sean *hashable*, es decir, que contengan un *hash* o identificador inmutable durante toda su vida.\n",
    "2. De manera más simple, necesita que los objetos agregados al cache sean inmutables. Como en este problema, lo que pretendemos dejar en cache son los parámetros w, que son de tipo *numpy.ndaaray*, no podemos utilizar el cache para guardarlos.\n",
    "\n",
    "\n",
    "\n",
    "\n",
    "\n",
    "\n",
    "\n",
    "\n",
    "\n",
    "."
   ]
  },
  {
   "cell_type": "code",
   "execution_count": 15,
   "metadata": {
    "colab": {},
    "colab_type": "code",
    "id": "gDkAmWA2lPD6"
   },
   "outputs": [],
   "source": [
    "rlb_v1 = RegresionLogisticaBayesianaMHV1(w_inicial,media_prior,std_inicial,std_proposal,n_samples)\n",
    "rlb_v1.fit(X_mcmc, y_mcmc)"
   ]
  },
  {
   "cell_type": "code",
   "execution_count": 16,
   "metadata": {
    "colab": {
     "base_uri": "https://localhost:8080/",
     "height": 51
    },
    "colab_type": "code",
    "id": "vSc0f8J7lPEJ",
    "outputId": "d4cb8495-4ed6-4cc9-d195-4dfdfabd67b4"
   },
   "outputs": [
    {
     "name": "stdout",
     "output_type": "stream",
     "text": [
      "Accuracy en conjunto de entrnamiento:  0.8329948632182534\n",
      "Proporcion de muestras aceptadas MCMC: 0.61\n"
     ]
    }
   ],
   "source": [
    "# Resultados\n",
    "ac_rlb = accuracy_score(rlb_v1.predict(X_mcmc), y_mcmc)\n",
    "print('Accuracy en conjunto de entrnamiento: ', ac_rlb)\n",
    "print('Proporcion de muestras aceptadas MCMC:', rlb_v1.proporcion_aceptacion)"
   ]
  },
  {
   "cell_type": "code",
   "execution_count": 17,
   "metadata": {
    "colab": {
     "base_uri": "https://localhost:8080/",
     "height": 34
    },
    "colab_type": "code",
    "id": "3HhtYoOilPEi",
    "outputId": "5942be92-3f05-47fe-a5b5-0fcd248b08de"
   },
   "outputs": [
    {
     "name": "stdout",
     "output_type": "stream",
     "text": [
      "\n",
      "*** Profile printout saved to text file 'reportes/RegresionLogisticaBayesianaMHV1.txt'. \n"
     ]
    }
   ],
   "source": [
    "# reporte el tiempo de ejecucion aqui\n",
    "%lprun -T reportes/RegresionLogisticaBayesianaMHV1.txt -f rlb_v1.metropolis_hastings rlb_v1.metropolis_hastings(X_mcmc, y_mcmc, semilla=6202)"
   ]
  },
  {
   "cell_type": "markdown",
   "metadata": {
    "colab_type": "text",
    "id": "IIZre6-KlPEy"
   },
   "source": [
    "### Pregunta 4\n",
    "**Procesos distribuidos**. \n",
    "\n",
    "1. Implemente la clase `ProcesoRegresionLogisticaBayesianaMHV1`, que herede de `Process` y `RegresionLogisticaBayesianaMHV1`, cuyo objetivo es guardar en el disco la traza obtenida en el proceso de entrenamiento.\n",
    "2. Obtenga tantas trazas de como nucleos tenga el procesador de su computador. Dichas trazas deben ser guardadas en la carpeta `trazas`, con el nombre del archivo según el formato `s_DDDD.npy` donde `DDDD` es un entero de 4 dígitos que representa la semilla utilizada para la obtención de dicha traza. *Hint*: puede obtener el número de núcleos de su procesador mediante la función `cpu_count()` de la librería `multiprocessing`. \n"
   ]
  },
  {
   "cell_type": "code",
   "execution_count": 0,
   "metadata": {
    "colab": {},
    "colab_type": "code",
    "id": "Q9kRNRDElPE3"
   },
   "outputs": [],
   "source": [
    "# construya ProcesoRegresionLogisticaBayesianaMHV1 aqui\n",
    "class ProcesoRegresionLogisticaBayesianaMHV1(Process,RegresionLogisticaBayesianaMHV1):\n",
    "    \n",
    "    def __init__(self,w_inicial,media_prior,std_inicial,std_proposal,n_samples,X,y,seed):\n",
    "        super().__init__()\n",
    "        # parametros metropolis hastings\n",
    "        self.w_inicial = w_inicial\n",
    "        self.media_priori = media_prior\n",
    "        self.std_priori = std_inicial\n",
    "        self.std_proposal = std_proposal\n",
    "        self.n_muestras = n_samples\n",
    "        # atributos inferidos\n",
    "        self.dim_parametros = self.w_inicial.shape[0]\n",
    "        self.traza = np.zeros((self.n_muestras + 1, self.dim_parametros, ))\n",
    "        self.traza[0] = self.w_inicial\n",
    "        # atributos para el fitting\n",
    "        self.X = X\n",
    "        self.y = y\n",
    "        self.seed = seed\n",
    "        \n",
    "    def run(self):\n",
    "        print('Fitteando para semilla = {}'.format(self.seed))\n",
    "        self.fit(self.X, self.y, semilla = self.seed)\n",
    "        print('Traza para semilla = {}'.format(self.seed), self.traza[-1])\n",
    "        #np.save('s_{}.npy'.format(str(self.seed).zfill(4)),self.traza[-1]) #Colab\n",
    "        np.save('trazas/s_{}.npy'.format(str(self.seed).zfill(4)),self.traza[-1])"
   ]
  },
  {
   "cell_type": "code",
   "execution_count": 24,
   "metadata": {
    "colab": {
     "base_uri": "https://localhost:8080/",
     "height": 224
    },
    "colab_type": "code",
    "id": "Oo7fFm0mlPFI",
    "outputId": "1559c4ca-2255-4fd4-f0b6-0061a5827ebd"
   },
   "outputs": [
    {
     "name": "stdout",
     "output_type": "stream",
     "text": [
      "Fitteando para semilla = 6202\n",
      "Traza para semilla = 6202 [ 0.48304888  1.92887167  0.75356919 -1.58848652 -0.30829089  0.67696426\n",
      "  0.04704872 -0.51987597 -0.52421745 -0.41097378 -0.4600949  -0.49299768\n",
      " -0.41227523 -0.40987929 -0.1911314  -0.51642943  0.11471729 -0.36162342\n",
      " -0.50685335 -0.4173676  -0.20699506 -0.13177808  0.13980965  0.5749865\n",
      "  0.12894339 -0.02427538 -1.23590721  0.62891717  2.87030075  0.68377209\n",
      "  0.12944699  1.22101305  0.05642807  0.18987925  2.02073999  1.89181858\n",
      "  0.12405833  2.09180492 -0.20945868  2.07111811 -0.43963446  0.04710129\n",
      "  0.10226104  0.91561973  0.57272908  0.23752251  0.28762794 -0.49392282\n",
      " -0.66533098 -0.91079969 -0.66315057 -0.29936657 -0.01057267  0.04905701\n",
      " -0.10742516 -0.26744997]\n"
     ]
    }
   ],
   "source": [
    "# Prueba\n",
    "p=ProcesoRegresionLogisticaBayesianaMHV1(w_inicial,media_prior,std_inicial,std_proposal,\n",
    "                                         n_samples,X_mcmc,y_mcmc,6202)\n",
    "p.start()\n",
    "p.join()"
   ]
  },
  {
   "cell_type": "code",
   "execution_count": 26,
   "metadata": {
    "colab": {
     "base_uri": "https://localhost:8080/",
     "height": 1000
    },
    "colab_type": "code",
    "id": "svrsTXeWlPFz",
    "outputId": "a76a79ac-eeb2-4bda-8c14-5e94d57c8714"
   },
   "outputs": [
    {
     "name": "stdout",
     "output_type": "stream",
     "text": [
      "Fitteando para semilla = 500\n",
      "Fitteando para semilla = 1000\n",
      "Fitteando para semilla = 1500\n",
      "Fitteando para semilla = 2000\n",
      "Fitteando para semilla = 2500\n",
      "Fitteando para semilla = 3000\n",
      "Fitteando para semilla = 3500\n",
      "Fitteando para semilla = 4000\n",
      "Traza para semilla = 2000 [ 5.08459899e-01  1.94983252e+00  1.04781126e+00 -1.58033533e+00\n",
      " -4.05900224e-01  2.85868800e-01  8.63799315e-04 -5.63368425e-01\n",
      " -4.57126512e-01 -2.21710751e-01 -6.63143319e-01 -3.97225491e-01\n",
      " -1.57833417e-01 -5.92864518e-02 -6.37940481e-01 -2.93007113e-01\n",
      " -6.69895647e-02 -2.75452004e-01 -7.33718704e-02 -2.20176746e-01\n",
      " -2.28045587e-01  7.13702522e-02  1.48190747e-01  4.67985298e-01\n",
      "  1.82468721e-01 -3.38133906e-01 -1.30123083e+00  4.43051557e-01\n",
      "  2.87601736e+00  5.88029238e-01 -4.49675325e-02  1.05872653e+00\n",
      "  1.00570614e-01  2.30809128e-02  1.73303701e+00  1.85582351e+00\n",
      " -1.02895585e-01  1.81846752e+00  1.23395611e-01  2.16500070e+00\n",
      " -3.45781301e-01  1.29522608e-01 -1.80442562e-01  9.23079400e-01\n",
      "  6.26613654e-01  2.12746610e-01  8.10701130e-02 -5.48986535e-01\n",
      " -7.92599263e-01 -7.86640869e-01 -7.12116739e-01 -4.00326963e-01\n",
      " -4.07054162e-02 -1.09311060e-01  7.14181691e-02 -2.97394211e-01]\n",
      "Traza para semilla = 1500 [ 0.31126412  1.95105902  1.07036121 -1.42510536 -0.34501548  0.88295354\n",
      " -0.03259699 -0.68804048 -0.49893018 -0.42474636 -0.89945449 -0.50145361\n",
      " -0.2612039  -0.24942993 -0.54209914 -0.33861275  0.11093151 -0.22426911\n",
      " -0.35036918 -0.23286193 -0.18228251 -0.13539225  0.37352656  0.66105636\n",
      "  0.38897615 -0.22068661 -1.14823198  0.50412755  2.38684635  0.71570039\n",
      "  0.12168329  0.93834294 -0.23371156 -0.05265803  1.69068697  2.23977443\n",
      " -0.04319704  1.63772984  0.06917012  2.32937892 -0.33737347  0.03880762\n",
      " -0.06446259  0.95838273  0.53152879  0.2678388   0.06782867 -0.38589414\n",
      " -0.61943604 -0.66117743 -0.66153708 -0.64755397 -0.04107852  0.05687478\n",
      "  0.00986887  0.23775706]Traza para semilla = 3500 [ 0.33841805  2.03884147  1.21342423 -1.43377967  0.0749754   0.06401178\n",
      "  0.11297396 -0.68182909 -0.55834904 -0.1308918  -0.55590975 -0.552917\n",
      " -0.24811926 -0.28377881 -0.6005     -0.28089552 -0.07982498  0.02199229\n",
      "  0.08567966 -0.48072896 -0.21840996 -0.15101783  0.18897678  0.5296818\n",
      "  0.23096738 -0.20258039 -1.28212535  0.51554248  2.52022338  0.56945038\n",
      "  0.17896012  1.02068953 -0.1426315   0.10633144  2.02785522  2.1483122\n",
      "  0.09420149  2.2120183   0.16002591  2.26807291 -0.16401341  0.19324032\n",
      " -0.27119005  1.13600492  0.71189541  0.19912987  0.13331765 -0.63368088\n",
      " -0.90562961 -0.71010342 -0.87504575 -0.56617156  0.33198523  0.14393813\n",
      " -0.05001361  0.35755321]Traza para semilla = 2500 [ 0.43525435  1.94537065  1.07278612 -1.2751881  -0.38006562  0.53235194\n",
      " -0.33262844 -0.59423926 -0.36915658 -0.42462999 -0.46635569 -0.53840965\n",
      " -0.31956857 -0.26992278 -0.48507384 -0.30693908  0.27503799 -0.15928666\n",
      " -0.3403638  -0.29591997 -0.17962172  0.08117037  0.44117173  0.64612874\n",
      "  0.44763251 -0.09062067 -1.10445858  0.57593282  2.94819061  0.71611921\n",
      " -0.02305571  0.81853484 -0.21575657 -0.07514706  1.92511946  1.82601267\n",
      " -0.2450192   2.16782828 -0.04881157  2.17495081 -0.49952615  0.08983335\n",
      " -0.04075876  0.78106126  0.5881427   0.32637208  0.19121377 -0.73035124\n",
      " -0.75716546 -0.63146001 -0.66951242 -0.41379993  0.31223846  0.36599927\n",
      "  0.05907959  0.16091649]\n",
      "\n",
      "\n",
      "Traza para semilla = 500 [ 0.30514554  1.93022577  1.16748528 -1.78224767 -0.429542    0.53489386\n",
      " -0.06049265 -0.53093137 -0.33439508 -0.26221927 -0.23729638 -0.08418393\n",
      " -0.29552733 -0.24519272 -0.32125539 -0.02837621 -0.0143399  -0.13672291\n",
      " -0.63133918 -0.20676816  0.05890728  0.14537195  0.0487603   0.52663442\n",
      "  0.0631496  -0.30186054 -1.36574999  0.65436153  2.36615434  0.80937477\n",
      "  0.13997775  1.24337561 -0.08987269  0.06563568  1.75834771  1.76204833\n",
      "  0.05331782  1.92653592  0.14433381  2.18096337 -0.25532545 -0.16715019\n",
      " -0.08967832  1.05477143  0.61703959  0.25578329  0.05737214 -0.68684264\n",
      " -0.82263774 -0.81929804 -0.96866793 -0.63136127 -0.05588449 -0.13858538\n",
      " -0.08372822  0.55094814]\n",
      "Traza para semilla = 1000 [ 0.90042942  1.91889733  0.65382068 -2.31495615 -0.72996029  0.66539588\n",
      " -0.11485999 -0.66118439 -0.4221384  -0.40941358 -0.48357781 -0.1670288\n",
      " -0.29414624 -0.24856098 -0.22727016 -0.25957541  0.2670833  -0.1041255\n",
      " -0.67085044  0.03419402 -0.25407736 -0.3740695   0.24380671  0.49638197\n",
      "  0.29752424 -0.25444194 -1.14743506  0.58667757  2.53936597  0.51337178\n",
      "  0.01215563  0.85274236 -0.20575443 -0.01184277  1.70234706  1.90568994\n",
      "  0.0325282   2.15405037  0.00983225  1.78438263 -0.5903808   0.12096326\n",
      "  0.0685674   0.81745302  0.54198733  0.33653866  0.24530577 -0.50159757\n",
      " -0.77738767 -0.88573376 -0.82586862 -0.78551084  0.16416996 -0.08651331\n",
      " -0.16624665  0.13301199]\n",
      "Traza para semilla = 3000 [ 0.65631035  1.94065288  0.92946528 -1.78382112 -0.32343698  0.47903226\n",
      "  0.11510404 -0.60111415 -0.284908   -0.41894229 -0.41946394 -0.36276372\n",
      " -0.15611616 -0.46215716 -0.43561835 -0.55134803 -0.04004859 -0.16552761\n",
      " -0.1879586   0.0543628  -0.19311279 -0.1173034   0.15679494  0.35066079\n",
      "  0.39266646 -0.04449006 -0.95563995  0.64586272  2.70385782  0.83905377\n",
      "  0.18423455  0.84557949 -0.0373868   0.12503694  1.6623692   2.01527626\n",
      "  0.04377385  1.86905236 -0.01375763  1.80498724 -0.47899099  0.06830639\n",
      " -0.17995564  0.88888858  0.59235665  0.22869776  0.10905841 -0.53513009\n",
      " -0.76348136 -0.94753905 -0.9631811  -0.52624182 -0.26954898  0.15170532\n",
      " -0.51480806 -0.16725514]\n",
      "Traza para semilla = 4000 [ 0.28749928  1.99378272  0.9119082  -1.53099873 -0.40631938  0.92341343\n",
      " -0.01704522 -0.58551873 -0.41603299 -0.27889938 -0.74862106 -0.41432898\n",
      " -0.23932305  0.05693401 -0.31992602 -0.33992481  0.33144519 -0.1643829\n",
      " -0.34331809 -0.2195854  -0.16109899 -0.10891714  0.26858518  0.52695862\n",
      "  0.37516576  0.0257018  -1.46733551  0.48483467  2.25285024  0.66063163\n",
      "  0.11338433  1.01431679 -0.16562071 -0.00371195  1.74752645  2.08150969\n",
      " -0.03824695  2.0424372   0.17960846  1.85338625 -0.30716972  0.03502245\n",
      " -0.01509034  1.17211187  0.67860943  0.38004031  0.20928039 -0.58011074\n",
      " -0.72581554 -0.7287738  -0.71651192 -0.46949641  0.02618109 -0.03031481\n",
      " -0.0642735   0.05993665]\n"
     ]
    },
    {
     "data": {
      "text/plain": [
       "[None, None, None, None, None, None, None, None]"
      ]
     },
     "execution_count": 26,
     "metadata": {
      "tags": []
     },
     "output_type": "execute_result"
    }
   ],
   "source": [
    "# Se obtiene la cantidad de nucleos:\n",
    "n_ker = cpu_count() #8 (En colab hubo que fijar el valor)\n",
    "\n",
    "# Se generan las semillas\n",
    "seeds = np.array([500*(i+1) for i in range(n_ker)])\n",
    "\n",
    "# Se definen los procesos\n",
    "processes = [ProcesoRegresionLogisticaBayesianaMHV1(w_inicial,media_prior,std_inicial,std_proposal,n_samples,X_mcmc,y_mcmc,seed) for seed in seeds]\n",
    "\n",
    "# Se ejecutan en paralelo\n",
    "[*map(lambda p: p.start(), processes)]\n",
    "[p.join() for p in processes]"
   ]
  },
  {
   "cell_type": "markdown",
   "metadata": {
    "colab_type": "text",
    "id": "uDiTXvZRlPF3"
   },
   "source": [
    "### Log verosimilitud en Cython\n",
    "Para finalizar implementaremos una versión en Cython para la log verosimilitud. En la siguiente celda adaptaremos los tipos de datos\n"
   ]
  },
  {
   "cell_type": "code",
   "execution_count": 0,
   "metadata": {
    "colab": {},
    "colab_type": "code",
    "id": "D23-dq9dlPF4"
   },
   "outputs": [],
   "source": [
    "X_cython = X_mcmc.toarray().astype('float32')\n",
    "y_cython = y_mcmc.astype('int32')"
   ]
  },
  {
   "cell_type": "markdown",
   "metadata": {
    "colab_type": "text",
    "id": "B2qUop7QlPF8"
   },
   "source": [
    "### Pregunta 5\n",
    "**Versión cython de la Log veorsimilitud**\n",
    "\n",
    "1. Implemente la clase de cython `LogVerosimilitud`. Esta debe:\n",
    "    - Inicializarse con los argumentos `X` e `y` de tamaño conocido, es decir puede asumir que `X.shape = (8371, 56)` y que `y.shape = (8371,)`. *Hint*: Puede ser útil usar variables globales por medio del comando `DEF`.\n",
    "    - Poseer el método `get()` que opera sobre un arreglo de NumPy `w` y retorna su log verosimilitud. *Hint*: puede ser de utilidad el decorador `@cython.cdivision`.\n",
    "    - Transformar los arreglos de numpy (`X`, `y` y `w`) en arreglos de C.\n",
    "    - Minimizar la interacción con python, para acelerar el cómputo lo más posible. Para verificar esto utilice el `magic` de celda `%%cython -a`.\n",
    "\n",
    "*Hint*: utilice las funciones `exp` y `log` de `libc.math` de `cython`. "
   ]
  },
  {
   "cell_type": "code",
   "execution_count": 0,
   "metadata": {
    "colab": {},
    "colab_type": "code",
    "id": "td5gYX2JlPF9",
    "outputId": "a6f0e016-8aea-421d-9949-df97420790b5"
   },
   "outputs": [
    {
     "data": {
      "text/html": [
       "<!DOCTYPE html>\n",
       "<!-- Generated by Cython 0.29.13 -->\n",
       "<html>\n",
       "<head>\n",
       "    <meta http-equiv=\"Content-Type\" content=\"text/html; charset=utf-8\" />\n",
       "    <title>Cython: _cython_magic_4cbe858b0bac041187585043da189128.pyx</title>\n",
       "    <style type=\"text/css\">\n",
       "    \n",
       "body.cython { font-family: courier; font-size: 12; }\n",
       "\n",
       ".cython.tag  {  }\n",
       ".cython.line { margin: 0em }\n",
       ".cython.code { font-size: 9; color: #444444; display: none; margin: 0px 0px 0px 8px; border-left: 8px none; }\n",
       "\n",
       ".cython.line .run { background-color: #B0FFB0; }\n",
       ".cython.line .mis { background-color: #FFB0B0; }\n",
       ".cython.code.run  { border-left: 8px solid #B0FFB0; }\n",
       ".cython.code.mis  { border-left: 8px solid #FFB0B0; }\n",
       "\n",
       ".cython.code .py_c_api  { color: red; }\n",
       ".cython.code .py_macro_api  { color: #FF7000; }\n",
       ".cython.code .pyx_c_api  { color: #FF3000; }\n",
       ".cython.code .pyx_macro_api  { color: #FF7000; }\n",
       ".cython.code .refnanny  { color: #FFA000; }\n",
       ".cython.code .trace  { color: #FFA000; }\n",
       ".cython.code .error_goto  { color: #FFA000; }\n",
       "\n",
       ".cython.code .coerce  { color: #008000; border: 1px dotted #008000 }\n",
       ".cython.code .py_attr { color: #FF0000; font-weight: bold; }\n",
       ".cython.code .c_attr  { color: #0000FF; }\n",
       ".cython.code .py_call { color: #FF0000; font-weight: bold; }\n",
       ".cython.code .c_call  { color: #0000FF; }\n",
       "\n",
       ".cython.score-0 {background-color: #FFFFff;}\n",
       ".cython.score-1 {background-color: #FFFFe7;}\n",
       ".cython.score-2 {background-color: #FFFFd4;}\n",
       ".cython.score-3 {background-color: #FFFFc4;}\n",
       ".cython.score-4 {background-color: #FFFFb6;}\n",
       ".cython.score-5 {background-color: #FFFFaa;}\n",
       ".cython.score-6 {background-color: #FFFF9f;}\n",
       ".cython.score-7 {background-color: #FFFF96;}\n",
       ".cython.score-8 {background-color: #FFFF8d;}\n",
       ".cython.score-9 {background-color: #FFFF86;}\n",
       ".cython.score-10 {background-color: #FFFF7f;}\n",
       ".cython.score-11 {background-color: #FFFF79;}\n",
       ".cython.score-12 {background-color: #FFFF73;}\n",
       ".cython.score-13 {background-color: #FFFF6e;}\n",
       ".cython.score-14 {background-color: #FFFF6a;}\n",
       ".cython.score-15 {background-color: #FFFF66;}\n",
       ".cython.score-16 {background-color: #FFFF62;}\n",
       ".cython.score-17 {background-color: #FFFF5e;}\n",
       ".cython.score-18 {background-color: #FFFF5b;}\n",
       ".cython.score-19 {background-color: #FFFF57;}\n",
       ".cython.score-20 {background-color: #FFFF55;}\n",
       ".cython.score-21 {background-color: #FFFF52;}\n",
       ".cython.score-22 {background-color: #FFFF4f;}\n",
       ".cython.score-23 {background-color: #FFFF4d;}\n",
       ".cython.score-24 {background-color: #FFFF4b;}\n",
       ".cython.score-25 {background-color: #FFFF48;}\n",
       ".cython.score-26 {background-color: #FFFF46;}\n",
       ".cython.score-27 {background-color: #FFFF44;}\n",
       ".cython.score-28 {background-color: #FFFF43;}\n",
       ".cython.score-29 {background-color: #FFFF41;}\n",
       ".cython.score-30 {background-color: #FFFF3f;}\n",
       ".cython.score-31 {background-color: #FFFF3e;}\n",
       ".cython.score-32 {background-color: #FFFF3c;}\n",
       ".cython.score-33 {background-color: #FFFF3b;}\n",
       ".cython.score-34 {background-color: #FFFF39;}\n",
       ".cython.score-35 {background-color: #FFFF38;}\n",
       ".cython.score-36 {background-color: #FFFF37;}\n",
       ".cython.score-37 {background-color: #FFFF36;}\n",
       ".cython.score-38 {background-color: #FFFF35;}\n",
       ".cython.score-39 {background-color: #FFFF34;}\n",
       ".cython.score-40 {background-color: #FFFF33;}\n",
       ".cython.score-41 {background-color: #FFFF32;}\n",
       ".cython.score-42 {background-color: #FFFF31;}\n",
       ".cython.score-43 {background-color: #FFFF30;}\n",
       ".cython.score-44 {background-color: #FFFF2f;}\n",
       ".cython.score-45 {background-color: #FFFF2e;}\n",
       ".cython.score-46 {background-color: #FFFF2d;}\n",
       ".cython.score-47 {background-color: #FFFF2c;}\n",
       ".cython.score-48 {background-color: #FFFF2b;}\n",
       ".cython.score-49 {background-color: #FFFF2b;}\n",
       ".cython.score-50 {background-color: #FFFF2a;}\n",
       ".cython.score-51 {background-color: #FFFF29;}\n",
       ".cython.score-52 {background-color: #FFFF29;}\n",
       ".cython.score-53 {background-color: #FFFF28;}\n",
       ".cython.score-54 {background-color: #FFFF27;}\n",
       ".cython.score-55 {background-color: #FFFF27;}\n",
       ".cython.score-56 {background-color: #FFFF26;}\n",
       ".cython.score-57 {background-color: #FFFF26;}\n",
       ".cython.score-58 {background-color: #FFFF25;}\n",
       ".cython.score-59 {background-color: #FFFF24;}\n",
       ".cython.score-60 {background-color: #FFFF24;}\n",
       ".cython.score-61 {background-color: #FFFF23;}\n",
       ".cython.score-62 {background-color: #FFFF23;}\n",
       ".cython.score-63 {background-color: #FFFF22;}\n",
       ".cython.score-64 {background-color: #FFFF22;}\n",
       ".cython.score-65 {background-color: #FFFF22;}\n",
       ".cython.score-66 {background-color: #FFFF21;}\n",
       ".cython.score-67 {background-color: #FFFF21;}\n",
       ".cython.score-68 {background-color: #FFFF20;}\n",
       ".cython.score-69 {background-color: #FFFF20;}\n",
       ".cython.score-70 {background-color: #FFFF1f;}\n",
       ".cython.score-71 {background-color: #FFFF1f;}\n",
       ".cython.score-72 {background-color: #FFFF1f;}\n",
       ".cython.score-73 {background-color: #FFFF1e;}\n",
       ".cython.score-74 {background-color: #FFFF1e;}\n",
       ".cython.score-75 {background-color: #FFFF1e;}\n",
       ".cython.score-76 {background-color: #FFFF1d;}\n",
       ".cython.score-77 {background-color: #FFFF1d;}\n",
       ".cython.score-78 {background-color: #FFFF1c;}\n",
       ".cython.score-79 {background-color: #FFFF1c;}\n",
       ".cython.score-80 {background-color: #FFFF1c;}\n",
       ".cython.score-81 {background-color: #FFFF1c;}\n",
       ".cython.score-82 {background-color: #FFFF1b;}\n",
       ".cython.score-83 {background-color: #FFFF1b;}\n",
       ".cython.score-84 {background-color: #FFFF1b;}\n",
       ".cython.score-85 {background-color: #FFFF1a;}\n",
       ".cython.score-86 {background-color: #FFFF1a;}\n",
       ".cython.score-87 {background-color: #FFFF1a;}\n",
       ".cython.score-88 {background-color: #FFFF1a;}\n",
       ".cython.score-89 {background-color: #FFFF19;}\n",
       ".cython.score-90 {background-color: #FFFF19;}\n",
       ".cython.score-91 {background-color: #FFFF19;}\n",
       ".cython.score-92 {background-color: #FFFF19;}\n",
       ".cython.score-93 {background-color: #FFFF18;}\n",
       ".cython.score-94 {background-color: #FFFF18;}\n",
       ".cython.score-95 {background-color: #FFFF18;}\n",
       ".cython.score-96 {background-color: #FFFF18;}\n",
       ".cython.score-97 {background-color: #FFFF17;}\n",
       ".cython.score-98 {background-color: #FFFF17;}\n",
       ".cython.score-99 {background-color: #FFFF17;}\n",
       ".cython.score-100 {background-color: #FFFF17;}\n",
       ".cython.score-101 {background-color: #FFFF16;}\n",
       ".cython.score-102 {background-color: #FFFF16;}\n",
       ".cython.score-103 {background-color: #FFFF16;}\n",
       ".cython.score-104 {background-color: #FFFF16;}\n",
       ".cython.score-105 {background-color: #FFFF16;}\n",
       ".cython.score-106 {background-color: #FFFF15;}\n",
       ".cython.score-107 {background-color: #FFFF15;}\n",
       ".cython.score-108 {background-color: #FFFF15;}\n",
       ".cython.score-109 {background-color: #FFFF15;}\n",
       ".cython.score-110 {background-color: #FFFF15;}\n",
       ".cython.score-111 {background-color: #FFFF15;}\n",
       ".cython.score-112 {background-color: #FFFF14;}\n",
       ".cython.score-113 {background-color: #FFFF14;}\n",
       ".cython.score-114 {background-color: #FFFF14;}\n",
       ".cython.score-115 {background-color: #FFFF14;}\n",
       ".cython.score-116 {background-color: #FFFF14;}\n",
       ".cython.score-117 {background-color: #FFFF14;}\n",
       ".cython.score-118 {background-color: #FFFF13;}\n",
       ".cython.score-119 {background-color: #FFFF13;}\n",
       ".cython.score-120 {background-color: #FFFF13;}\n",
       ".cython.score-121 {background-color: #FFFF13;}\n",
       ".cython.score-122 {background-color: #FFFF13;}\n",
       ".cython.score-123 {background-color: #FFFF13;}\n",
       ".cython.score-124 {background-color: #FFFF13;}\n",
       ".cython.score-125 {background-color: #FFFF12;}\n",
       ".cython.score-126 {background-color: #FFFF12;}\n",
       ".cython.score-127 {background-color: #FFFF12;}\n",
       ".cython.score-128 {background-color: #FFFF12;}\n",
       ".cython.score-129 {background-color: #FFFF12;}\n",
       ".cython.score-130 {background-color: #FFFF12;}\n",
       ".cython.score-131 {background-color: #FFFF12;}\n",
       ".cython.score-132 {background-color: #FFFF11;}\n",
       ".cython.score-133 {background-color: #FFFF11;}\n",
       ".cython.score-134 {background-color: #FFFF11;}\n",
       ".cython.score-135 {background-color: #FFFF11;}\n",
       ".cython.score-136 {background-color: #FFFF11;}\n",
       ".cython.score-137 {background-color: #FFFF11;}\n",
       ".cython.score-138 {background-color: #FFFF11;}\n",
       ".cython.score-139 {background-color: #FFFF11;}\n",
       ".cython.score-140 {background-color: #FFFF11;}\n",
       ".cython.score-141 {background-color: #FFFF10;}\n",
       ".cython.score-142 {background-color: #FFFF10;}\n",
       ".cython.score-143 {background-color: #FFFF10;}\n",
       ".cython.score-144 {background-color: #FFFF10;}\n",
       ".cython.score-145 {background-color: #FFFF10;}\n",
       ".cython.score-146 {background-color: #FFFF10;}\n",
       ".cython.score-147 {background-color: #FFFF10;}\n",
       ".cython.score-148 {background-color: #FFFF10;}\n",
       ".cython.score-149 {background-color: #FFFF10;}\n",
       ".cython.score-150 {background-color: #FFFF0f;}\n",
       ".cython.score-151 {background-color: #FFFF0f;}\n",
       ".cython.score-152 {background-color: #FFFF0f;}\n",
       ".cython.score-153 {background-color: #FFFF0f;}\n",
       ".cython.score-154 {background-color: #FFFF0f;}\n",
       ".cython.score-155 {background-color: #FFFF0f;}\n",
       ".cython.score-156 {background-color: #FFFF0f;}\n",
       ".cython.score-157 {background-color: #FFFF0f;}\n",
       ".cython.score-158 {background-color: #FFFF0f;}\n",
       ".cython.score-159 {background-color: #FFFF0f;}\n",
       ".cython.score-160 {background-color: #FFFF0f;}\n",
       ".cython.score-161 {background-color: #FFFF0e;}\n",
       ".cython.score-162 {background-color: #FFFF0e;}\n",
       ".cython.score-163 {background-color: #FFFF0e;}\n",
       ".cython.score-164 {background-color: #FFFF0e;}\n",
       ".cython.score-165 {background-color: #FFFF0e;}\n",
       ".cython.score-166 {background-color: #FFFF0e;}\n",
       ".cython.score-167 {background-color: #FFFF0e;}\n",
       ".cython.score-168 {background-color: #FFFF0e;}\n",
       ".cython.score-169 {background-color: #FFFF0e;}\n",
       ".cython.score-170 {background-color: #FFFF0e;}\n",
       ".cython.score-171 {background-color: #FFFF0e;}\n",
       ".cython.score-172 {background-color: #FFFF0e;}\n",
       ".cython.score-173 {background-color: #FFFF0d;}\n",
       ".cython.score-174 {background-color: #FFFF0d;}\n",
       ".cython.score-175 {background-color: #FFFF0d;}\n",
       ".cython.score-176 {background-color: #FFFF0d;}\n",
       ".cython.score-177 {background-color: #FFFF0d;}\n",
       ".cython.score-178 {background-color: #FFFF0d;}\n",
       ".cython.score-179 {background-color: #FFFF0d;}\n",
       ".cython.score-180 {background-color: #FFFF0d;}\n",
       ".cython.score-181 {background-color: #FFFF0d;}\n",
       ".cython.score-182 {background-color: #FFFF0d;}\n",
       ".cython.score-183 {background-color: #FFFF0d;}\n",
       ".cython.score-184 {background-color: #FFFF0d;}\n",
       ".cython.score-185 {background-color: #FFFF0d;}\n",
       ".cython.score-186 {background-color: #FFFF0d;}\n",
       ".cython.score-187 {background-color: #FFFF0c;}\n",
       ".cython.score-188 {background-color: #FFFF0c;}\n",
       ".cython.score-189 {background-color: #FFFF0c;}\n",
       ".cython.score-190 {background-color: #FFFF0c;}\n",
       ".cython.score-191 {background-color: #FFFF0c;}\n",
       ".cython.score-192 {background-color: #FFFF0c;}\n",
       ".cython.score-193 {background-color: #FFFF0c;}\n",
       ".cython.score-194 {background-color: #FFFF0c;}\n",
       ".cython.score-195 {background-color: #FFFF0c;}\n",
       ".cython.score-196 {background-color: #FFFF0c;}\n",
       ".cython.score-197 {background-color: #FFFF0c;}\n",
       ".cython.score-198 {background-color: #FFFF0c;}\n",
       ".cython.score-199 {background-color: #FFFF0c;}\n",
       ".cython.score-200 {background-color: #FFFF0c;}\n",
       ".cython.score-201 {background-color: #FFFF0c;}\n",
       ".cython.score-202 {background-color: #FFFF0c;}\n",
       ".cython.score-203 {background-color: #FFFF0b;}\n",
       ".cython.score-204 {background-color: #FFFF0b;}\n",
       ".cython.score-205 {background-color: #FFFF0b;}\n",
       ".cython.score-206 {background-color: #FFFF0b;}\n",
       ".cython.score-207 {background-color: #FFFF0b;}\n",
       ".cython.score-208 {background-color: #FFFF0b;}\n",
       ".cython.score-209 {background-color: #FFFF0b;}\n",
       ".cython.score-210 {background-color: #FFFF0b;}\n",
       ".cython.score-211 {background-color: #FFFF0b;}\n",
       ".cython.score-212 {background-color: #FFFF0b;}\n",
       ".cython.score-213 {background-color: #FFFF0b;}\n",
       ".cython.score-214 {background-color: #FFFF0b;}\n",
       ".cython.score-215 {background-color: #FFFF0b;}\n",
       ".cython.score-216 {background-color: #FFFF0b;}\n",
       ".cython.score-217 {background-color: #FFFF0b;}\n",
       ".cython.score-218 {background-color: #FFFF0b;}\n",
       ".cython.score-219 {background-color: #FFFF0b;}\n",
       ".cython.score-220 {background-color: #FFFF0b;}\n",
       ".cython.score-221 {background-color: #FFFF0b;}\n",
       ".cython.score-222 {background-color: #FFFF0a;}\n",
       ".cython.score-223 {background-color: #FFFF0a;}\n",
       ".cython.score-224 {background-color: #FFFF0a;}\n",
       ".cython.score-225 {background-color: #FFFF0a;}\n",
       ".cython.score-226 {background-color: #FFFF0a;}\n",
       ".cython.score-227 {background-color: #FFFF0a;}\n",
       ".cython.score-228 {background-color: #FFFF0a;}\n",
       ".cython.score-229 {background-color: #FFFF0a;}\n",
       ".cython.score-230 {background-color: #FFFF0a;}\n",
       ".cython.score-231 {background-color: #FFFF0a;}\n",
       ".cython.score-232 {background-color: #FFFF0a;}\n",
       ".cython.score-233 {background-color: #FFFF0a;}\n",
       ".cython.score-234 {background-color: #FFFF0a;}\n",
       ".cython.score-235 {background-color: #FFFF0a;}\n",
       ".cython.score-236 {background-color: #FFFF0a;}\n",
       ".cython.score-237 {background-color: #FFFF0a;}\n",
       ".cython.score-238 {background-color: #FFFF0a;}\n",
       ".cython.score-239 {background-color: #FFFF0a;}\n",
       ".cython.score-240 {background-color: #FFFF0a;}\n",
       ".cython.score-241 {background-color: #FFFF0a;}\n",
       ".cython.score-242 {background-color: #FFFF0a;}\n",
       ".cython.score-243 {background-color: #FFFF0a;}\n",
       ".cython.score-244 {background-color: #FFFF0a;}\n",
       ".cython.score-245 {background-color: #FFFF0a;}\n",
       ".cython.score-246 {background-color: #FFFF09;}\n",
       ".cython.score-247 {background-color: #FFFF09;}\n",
       ".cython.score-248 {background-color: #FFFF09;}\n",
       ".cython.score-249 {background-color: #FFFF09;}\n",
       ".cython.score-250 {background-color: #FFFF09;}\n",
       ".cython.score-251 {background-color: #FFFF09;}\n",
       ".cython.score-252 {background-color: #FFFF09;}\n",
       ".cython.score-253 {background-color: #FFFF09;}\n",
       ".cython.score-254 {background-color: #FFFF09;}\n",
       ".cython .hll { background-color: #ffffcc }\n",
       ".cython  { background: #f8f8f8; }\n",
       ".cython .c { color: #408080; font-style: italic } /* Comment */\n",
       ".cython .err { border: 1px solid #FF0000 } /* Error */\n",
       ".cython .k { color: #008000; font-weight: bold } /* Keyword */\n",
       ".cython .o { color: #666666 } /* Operator */\n",
       ".cython .ch { color: #408080; font-style: italic } /* Comment.Hashbang */\n",
       ".cython .cm { color: #408080; font-style: italic } /* Comment.Multiline */\n",
       ".cython .cp { color: #BC7A00 } /* Comment.Preproc */\n",
       ".cython .cpf { color: #408080; font-style: italic } /* Comment.PreprocFile */\n",
       ".cython .c1 { color: #408080; font-style: italic } /* Comment.Single */\n",
       ".cython .cs { color: #408080; font-style: italic } /* Comment.Special */\n",
       ".cython .gd { color: #A00000 } /* Generic.Deleted */\n",
       ".cython .ge { font-style: italic } /* Generic.Emph */\n",
       ".cython .gr { color: #FF0000 } /* Generic.Error */\n",
       ".cython .gh { color: #000080; font-weight: bold } /* Generic.Heading */\n",
       ".cython .gi { color: #00A000 } /* Generic.Inserted */\n",
       ".cython .go { color: #888888 } /* Generic.Output */\n",
       ".cython .gp { color: #000080; font-weight: bold } /* Generic.Prompt */\n",
       ".cython .gs { font-weight: bold } /* Generic.Strong */\n",
       ".cython .gu { color: #800080; font-weight: bold } /* Generic.Subheading */\n",
       ".cython .gt { color: #0044DD } /* Generic.Traceback */\n",
       ".cython .kc { color: #008000; font-weight: bold } /* Keyword.Constant */\n",
       ".cython .kd { color: #008000; font-weight: bold } /* Keyword.Declaration */\n",
       ".cython .kn { color: #008000; font-weight: bold } /* Keyword.Namespace */\n",
       ".cython .kp { color: #008000 } /* Keyword.Pseudo */\n",
       ".cython .kr { color: #008000; font-weight: bold } /* Keyword.Reserved */\n",
       ".cython .kt { color: #B00040 } /* Keyword.Type */\n",
       ".cython .m { color: #666666 } /* Literal.Number */\n",
       ".cython .s { color: #BA2121 } /* Literal.String */\n",
       ".cython .na { color: #7D9029 } /* Name.Attribute */\n",
       ".cython .nb { color: #008000 } /* Name.Builtin */\n",
       ".cython .nc { color: #0000FF; font-weight: bold } /* Name.Class */\n",
       ".cython .no { color: #880000 } /* Name.Constant */\n",
       ".cython .nd { color: #AA22FF } /* Name.Decorator */\n",
       ".cython .ni { color: #999999; font-weight: bold } /* Name.Entity */\n",
       ".cython .ne { color: #D2413A; font-weight: bold } /* Name.Exception */\n",
       ".cython .nf { color: #0000FF } /* Name.Function */\n",
       ".cython .nl { color: #A0A000 } /* Name.Label */\n",
       ".cython .nn { color: #0000FF; font-weight: bold } /* Name.Namespace */\n",
       ".cython .nt { color: #008000; font-weight: bold } /* Name.Tag */\n",
       ".cython .nv { color: #19177C } /* Name.Variable */\n",
       ".cython .ow { color: #AA22FF; font-weight: bold } /* Operator.Word */\n",
       ".cython .w { color: #bbbbbb } /* Text.Whitespace */\n",
       ".cython .mb { color: #666666 } /* Literal.Number.Bin */\n",
       ".cython .mf { color: #666666 } /* Literal.Number.Float */\n",
       ".cython .mh { color: #666666 } /* Literal.Number.Hex */\n",
       ".cython .mi { color: #666666 } /* Literal.Number.Integer */\n",
       ".cython .mo { color: #666666 } /* Literal.Number.Oct */\n",
       ".cython .sa { color: #BA2121 } /* Literal.String.Affix */\n",
       ".cython .sb { color: #BA2121 } /* Literal.String.Backtick */\n",
       ".cython .sc { color: #BA2121 } /* Literal.String.Char */\n",
       ".cython .dl { color: #BA2121 } /* Literal.String.Delimiter */\n",
       ".cython .sd { color: #BA2121; font-style: italic } /* Literal.String.Doc */\n",
       ".cython .s2 { color: #BA2121 } /* Literal.String.Double */\n",
       ".cython .se { color: #BB6622; font-weight: bold } /* Literal.String.Escape */\n",
       ".cython .sh { color: #BA2121 } /* Literal.String.Heredoc */\n",
       ".cython .si { color: #BB6688; font-weight: bold } /* Literal.String.Interpol */\n",
       ".cython .sx { color: #008000 } /* Literal.String.Other */\n",
       ".cython .sr { color: #BB6688 } /* Literal.String.Regex */\n",
       ".cython .s1 { color: #BA2121 } /* Literal.String.Single */\n",
       ".cython .ss { color: #19177C } /* Literal.String.Symbol */\n",
       ".cython .bp { color: #008000 } /* Name.Builtin.Pseudo */\n",
       ".cython .fm { color: #0000FF } /* Name.Function.Magic */\n",
       ".cython .vc { color: #19177C } /* Name.Variable.Class */\n",
       ".cython .vg { color: #19177C } /* Name.Variable.Global */\n",
       ".cython .vi { color: #19177C } /* Name.Variable.Instance */\n",
       ".cython .vm { color: #19177C } /* Name.Variable.Magic */\n",
       ".cython .il { color: #666666 } /* Literal.Number.Integer.Long */\n",
       "    </style>\n",
       "</head>\n",
       "<body class=\"cython\">\n",
       "<p><span style=\"border-bottom: solid 1px grey;\">Generated by Cython 0.29.13</span></p>\n",
       "<p>\n",
       "    <span style=\"background-color: #FFFF00\">Yellow lines</span> hint at Python interaction.<br />\n",
       "    Click on a line that starts with a \"<code>+</code>\" to see the C code that Cython generated for it.\n",
       "</p>\n",
       "<div class=\"cython\"><pre class=\"cython line score-0\">&#xA0;<span class=\"\">01</span>: </pre>\n",
       "<pre class=\"cython line score-8\" onclick=\"(function(s){s.display=s.display==='block'?'none':'block'})(this.nextElementSibling.style)\">+<span class=\"\">02</span>: <span class=\"k\">from</span> <span class=\"nn\">libc.math</span> <span class=\"k\">cimport</span> <span class=\"n\">exp</span><span class=\"p\">,</span><span class=\"n\">log</span></pre>\n",
       "<pre class='cython code score-8 '>  __pyx_t_1 = <span class='pyx_c_api'>__Pyx_PyDict_NewPresized</span>(0);<span class='error_goto'> if (unlikely(!__pyx_t_1)) __PYX_ERR(0, 2, __pyx_L1_error)</span>\n",
       "  <span class='refnanny'>__Pyx_GOTREF</span>(__pyx_t_1);\n",
       "  if (<span class='py_c_api'>PyDict_SetItem</span>(__pyx_d, __pyx_n_s_test, __pyx_t_1) &lt; 0) <span class='error_goto'>__PYX_ERR(0, 2, __pyx_L1_error)</span>\n",
       "  <span class='pyx_macro_api'>__Pyx_DECREF</span>(__pyx_t_1); __pyx_t_1 = 0;\n",
       "</pre><pre class=\"cython line score-0\">&#xA0;<span class=\"\">03</span>: <span class=\"k\">import</span> <span class=\"nn\">cython</span></pre>\n",
       "<pre class=\"cython line score-0\">&#xA0;<span class=\"\">04</span>: </pre>\n",
       "<pre class=\"cython line score-0\" onclick=\"(function(s){s.display=s.display==='block'?'none':'block'})(this.nextElementSibling.style)\">+<span class=\"\">05</span>: <span class=\"k\">cdef</span> <span class=\"k\">class</span> <span class=\"nf\">LogVerosimilitud</span><span class=\"p\">():</span></pre>\n",
       "<pre class='cython code score-0 '>struct __pyx_obj_46_cython_magic_4cbe858b0bac041187585043da189128_LogVerosimilitud {\n",
       "  PyObject_HEAD\n",
       "  struct __pyx_vtabstruct_46_cython_magic_4cbe858b0bac041187585043da189128_LogVerosimilitud *__pyx_vtab;\n",
       "  double X[0x20B3][56];\n",
       "  double y[0x20B3];\n",
       "};\n",
       "\n",
       "\n",
       "\n",
       "struct __pyx_vtabstruct_46_cython_magic_4cbe858b0bac041187585043da189128_LogVerosimilitud {\n",
       "  void (*transform_matrix)(struct __pyx_obj_46_cython_magic_4cbe858b0bac041187585043da189128_LogVerosimilitud *, PyObject *, int __pyx_skip_dispatch);\n",
       "  void (*transform_array)(struct __pyx_obj_46_cython_magic_4cbe858b0bac041187585043da189128_LogVerosimilitud *, PyObject *, int __pyx_skip_dispatch);\n",
       "  double (*get)(struct __pyx_obj_46_cython_magic_4cbe858b0bac041187585043da189128_LogVerosimilitud *, PyObject *, int __pyx_skip_dispatch);\n",
       "};\n",
       "static struct __pyx_vtabstruct_46_cython_magic_4cbe858b0bac041187585043da189128_LogVerosimilitud *__pyx_vtabptr_46_cython_magic_4cbe858b0bac041187585043da189128_LogVerosimilitud;\n",
       "</pre><pre class=\"cython line score-0\">&#xA0;<span class=\"\">06</span>:     <span class=\"k\">cdef</span> <span class=\"kt\">double</span> <span class=\"kt\">X</span>[8371][56]</pre>\n",
       "<pre class=\"cython line score-0\">&#xA0;<span class=\"\">07</span>:     <span class=\"k\">cdef</span> <span class=\"kt\">double</span> <span class=\"kt\">y</span>[8371]</pre>\n",
       "<pre class=\"cython line score-0\">&#xA0;<span class=\"\">08</span>: </pre>\n",
       "<pre class=\"cython line score-24\" onclick=\"(function(s){s.display=s.display==='block'?'none':'block'})(this.nextElementSibling.style)\">+<span class=\"\">09</span>:     <span class=\"k\">def</span> <span class=\"nf\">__init__</span><span class=\"p\">(</span><span class=\"bp\">self</span><span class=\"p\">,</span> <span class=\"n\">X</span><span class=\"p\">,</span> <span class=\"n\">y</span><span class=\"p\">):</span></pre>\n",
       "<pre class='cython code score-24 '>/* Python wrapper */\n",
       "static int __pyx_pw_46_cython_magic_4cbe858b0bac041187585043da189128_16LogVerosimilitud_1__init__(PyObject *__pyx_v_self, PyObject *__pyx_args, PyObject *__pyx_kwds); /*proto*/\n",
       "static int __pyx_pw_46_cython_magic_4cbe858b0bac041187585043da189128_16LogVerosimilitud_1__init__(PyObject *__pyx_v_self, PyObject *__pyx_args, PyObject *__pyx_kwds) {\n",
       "  PyObject *__pyx_v_X = 0;\n",
       "  PyObject *__pyx_v_y = 0;\n",
       "  int __pyx_r;\n",
       "  <span class='refnanny'>__Pyx_RefNannyDeclarations</span>\n",
       "  <span class='refnanny'>__Pyx_RefNannySetupContext</span>(\"__init__ (wrapper)\", 0);\n",
       "  {\n",
       "    static PyObject **__pyx_pyargnames[] = {&amp;__pyx_n_s_X,&amp;__pyx_n_s_y,0};\n",
       "    PyObject* values[2] = {0,0};\n",
       "    if (unlikely(__pyx_kwds)) {\n",
       "      Py_ssize_t kw_args;\n",
       "      const Py_ssize_t pos_args = <span class='py_macro_api'>PyTuple_GET_SIZE</span>(__pyx_args);\n",
       "      switch (pos_args) {\n",
       "        case  2: values[1] = <span class='py_macro_api'>PyTuple_GET_ITEM</span>(__pyx_args, 1);\n",
       "        CYTHON_FALLTHROUGH;\n",
       "        case  1: values[0] = <span class='py_macro_api'>PyTuple_GET_ITEM</span>(__pyx_args, 0);\n",
       "        CYTHON_FALLTHROUGH;\n",
       "        case  0: break;\n",
       "        default: goto __pyx_L5_argtuple_error;\n",
       "      }\n",
       "      kw_args = <span class='py_c_api'>PyDict_Size</span>(__pyx_kwds);\n",
       "      switch (pos_args) {\n",
       "        case  0:\n",
       "        if (likely((values[0] = <span class='pyx_c_api'>__Pyx_PyDict_GetItemStr</span>(__pyx_kwds, __pyx_n_s_X)) != 0)) kw_args--;\n",
       "        else goto __pyx_L5_argtuple_error;\n",
       "        CYTHON_FALLTHROUGH;\n",
       "        case  1:\n",
       "        if (likely((values[1] = <span class='pyx_c_api'>__Pyx_PyDict_GetItemStr</span>(__pyx_kwds, __pyx_n_s_y)) != 0)) kw_args--;\n",
       "        else {\n",
       "          <span class='pyx_c_api'>__Pyx_RaiseArgtupleInvalid</span>(\"__init__\", 1, 2, 2, 1); <span class='error_goto'>__PYX_ERR(0, 9, __pyx_L3_error)</span>\n",
       "        }\n",
       "      }\n",
       "      if (unlikely(kw_args &gt; 0)) {\n",
       "        if (unlikely(<span class='pyx_c_api'>__Pyx_ParseOptionalKeywords</span>(__pyx_kwds, __pyx_pyargnames, 0, values, pos_args, \"__init__\") &lt; 0)) <span class='error_goto'>__PYX_ERR(0, 9, __pyx_L3_error)</span>\n",
       "      }\n",
       "    } else if (<span class='py_macro_api'>PyTuple_GET_SIZE</span>(__pyx_args) != 2) {\n",
       "      goto __pyx_L5_argtuple_error;\n",
       "    } else {\n",
       "      values[0] = <span class='py_macro_api'>PyTuple_GET_ITEM</span>(__pyx_args, 0);\n",
       "      values[1] = <span class='py_macro_api'>PyTuple_GET_ITEM</span>(__pyx_args, 1);\n",
       "    }\n",
       "    __pyx_v_X = values[0];\n",
       "    __pyx_v_y = values[1];\n",
       "  }\n",
       "  goto __pyx_L4_argument_unpacking_done;\n",
       "  __pyx_L5_argtuple_error:;\n",
       "  <span class='pyx_c_api'>__Pyx_RaiseArgtupleInvalid</span>(\"__init__\", 1, 2, 2, <span class='py_macro_api'>PyTuple_GET_SIZE</span>(__pyx_args)); <span class='error_goto'>__PYX_ERR(0, 9, __pyx_L3_error)</span>\n",
       "  __pyx_L3_error:;\n",
       "  <span class='pyx_c_api'>__Pyx_AddTraceback</span>(\"_cython_magic_4cbe858b0bac041187585043da189128.LogVerosimilitud.__init__\", __pyx_clineno, __pyx_lineno, __pyx_filename);\n",
       "  <span class='refnanny'>__Pyx_RefNannyFinishContext</span>();\n",
       "  return -1;\n",
       "  __pyx_L4_argument_unpacking_done:;\n",
       "  __pyx_r = __pyx_pf_46_cython_magic_4cbe858b0bac041187585043da189128_16LogVerosimilitud___init__(((struct __pyx_obj_46_cython_magic_4cbe858b0bac041187585043da189128_LogVerosimilitud *)__pyx_v_self), __pyx_v_X, __pyx_v_y);\n",
       "\n",
       "  /* function exit code */\n",
       "  <span class='refnanny'>__Pyx_RefNannyFinishContext</span>();\n",
       "  return __pyx_r;\n",
       "}\n",
       "\n",
       "static int __pyx_pf_46_cython_magic_4cbe858b0bac041187585043da189128_16LogVerosimilitud___init__(struct __pyx_obj_46_cython_magic_4cbe858b0bac041187585043da189128_LogVerosimilitud *__pyx_v_self, PyObject *__pyx_v_X, PyObject *__pyx_v_y) {\n",
       "  int __pyx_r;\n",
       "  <span class='refnanny'>__Pyx_RefNannyDeclarations</span>\n",
       "  <span class='refnanny'>__Pyx_RefNannySetupContext</span>(\"__init__\", 0);\n",
       "/* … */\n",
       "  /* function exit code */\n",
       "  __pyx_r = 0;\n",
       "  <span class='refnanny'>__Pyx_RefNannyFinishContext</span>();\n",
       "  return __pyx_r;\n",
       "}\n",
       "</pre><pre class=\"cython line score-0\" onclick=\"(function(s){s.display=s.display==='block'?'none':'block'})(this.nextElementSibling.style)\">+<span class=\"\">10</span>:         <span class=\"bp\">self</span><span class=\"o\">.</span><span class=\"n\">transform_matrix</span><span class=\"p\">(</span><span class=\"n\">X</span><span class=\"p\">)</span></pre>\n",
       "<pre class='cython code score-0 '>  ((struct __pyx_vtabstruct_46_cython_magic_4cbe858b0bac041187585043da189128_LogVerosimilitud *)__pyx_v_self-&gt;__pyx_vtab)-&gt;transform_matrix(__pyx_v_self, __pyx_v_X, 0);\n",
       "</pre><pre class=\"cython line score-0\" onclick=\"(function(s){s.display=s.display==='block'?'none':'block'})(this.nextElementSibling.style)\">+<span class=\"\">11</span>:         <span class=\"bp\">self</span><span class=\"o\">.</span><span class=\"n\">transform_array</span><span class=\"p\">(</span><span class=\"n\">y</span><span class=\"p\">)</span></pre>\n",
       "<pre class='cython code score-0 '>  ((struct __pyx_vtabstruct_46_cython_magic_4cbe858b0bac041187585043da189128_LogVerosimilitud *)__pyx_v_self-&gt;__pyx_vtab)-&gt;transform_array(__pyx_v_self, __pyx_v_y, 0);\n",
       "</pre><pre class=\"cython line score-0\">&#xA0;<span class=\"\">12</span>: </pre>\n",
       "<pre class=\"cython line score-30\" onclick=\"(function(s){s.display=s.display==='block'?'none':'block'})(this.nextElementSibling.style)\">+<span class=\"\">13</span>:     <span class=\"k\">cpdef</span> <span class=\"kt\">void</span> <span class=\"nf\">transform_matrix</span><span class=\"p\">(</span><span class=\"bp\">self</span><span class=\"p\">,</span><span class=\"n\">matrix</span><span class=\"p\">):</span></pre>\n",
       "<pre class='cython code score-30 '>static PyObject *__pyx_pw_46_cython_magic_4cbe858b0bac041187585043da189128_16LogVerosimilitud_3transform_matrix(PyObject *__pyx_v_self, PyObject *__pyx_v_matrix); /*proto*/\n",
       "static void __pyx_f_46_cython_magic_4cbe858b0bac041187585043da189128_16LogVerosimilitud_transform_matrix(struct __pyx_obj_46_cython_magic_4cbe858b0bac041187585043da189128_LogVerosimilitud *__pyx_v_self, PyObject *__pyx_v_matrix, int __pyx_skip_dispatch) {\n",
       "  int __pyx_v_i;\n",
       "  int __pyx_v_j;\n",
       "  <span class='refnanny'>__Pyx_RefNannyDeclarations</span>\n",
       "  <span class='refnanny'>__Pyx_RefNannySetupContext</span>(\"transform_matrix\", 0);\n",
       "  /* Check if called by wrapper */\n",
       "  if (unlikely(__pyx_skip_dispatch)) ;\n",
       "  /* Check if overridden in Python */\n",
       "  else if (unlikely((Py_TYPE(((PyObject *)__pyx_v_self))-&gt;tp_dictoffset != 0) || (Py_TYPE(((PyObject *)__pyx_v_self))-&gt;tp_flags &amp; (Py_TPFLAGS_IS_ABSTRACT | Py_TPFLAGS_HEAPTYPE)))) {\n",
       "    #if CYTHON_USE_DICT_VERSIONS &amp;&amp; CYTHON_USE_PYTYPE_LOOKUP &amp;&amp; CYTHON_USE_TYPE_SLOTS\n",
       "    static PY_UINT64_T __pyx_tp_dict_version = __PYX_DICT_VERSION_INIT, __pyx_obj_dict_version = __PYX_DICT_VERSION_INIT;\n",
       "    if (unlikely(!__Pyx_object_dict_version_matches(((PyObject *)__pyx_v_self), __pyx_tp_dict_version, __pyx_obj_dict_version))) {\n",
       "      PY_UINT64_T __pyx_type_dict_guard = __Pyx_get_tp_dict_version(((PyObject *)__pyx_v_self));\n",
       "      #endif\n",
       "      __pyx_t_1 = <span class='pyx_c_api'>__Pyx_PyObject_GetAttrStr</span>(((PyObject *)__pyx_v_self), __pyx_n_s_transform_matrix);<span class='error_goto'> if (unlikely(!__pyx_t_1)) __PYX_ERR(0, 13, __pyx_L1_error)</span>\n",
       "      <span class='refnanny'>__Pyx_GOTREF</span>(__pyx_t_1);\n",
       "      if (!PyCFunction_Check(__pyx_t_1) || (PyCFunction_GET_FUNCTION(__pyx_t_1) != (PyCFunction)(void*)__pyx_pw_46_cython_magic_4cbe858b0bac041187585043da189128_16LogVerosimilitud_3transform_matrix)) {\n",
       "        <span class='pyx_macro_api'>__Pyx_INCREF</span>(__pyx_t_1);\n",
       "        __pyx_t_3 = __pyx_t_1; __pyx_t_4 = NULL;\n",
       "        if (CYTHON_UNPACK_METHODS &amp;&amp; unlikely(<span class='py_c_api'>PyMethod_Check</span>(__pyx_t_3))) {\n",
       "          __pyx_t_4 = <span class='py_macro_api'>PyMethod_GET_SELF</span>(__pyx_t_3);\n",
       "          if (likely(__pyx_t_4)) {\n",
       "            PyObject* function = <span class='py_macro_api'>PyMethod_GET_FUNCTION</span>(__pyx_t_3);\n",
       "            <span class='pyx_macro_api'>__Pyx_INCREF</span>(__pyx_t_4);\n",
       "            <span class='pyx_macro_api'>__Pyx_INCREF</span>(function);\n",
       "            <span class='pyx_macro_api'>__Pyx_DECREF_SET</span>(__pyx_t_3, function);\n",
       "          }\n",
       "        }\n",
       "        __pyx_t_2 = (__pyx_t_4) ? __Pyx_PyObject_Call2Args(__pyx_t_3, __pyx_t_4, __pyx_v_matrix) : <span class='pyx_c_api'>__Pyx_PyObject_CallOneArg</span>(__pyx_t_3, __pyx_v_matrix);\n",
       "        <span class='pyx_macro_api'>__Pyx_XDECREF</span>(__pyx_t_4); __pyx_t_4 = 0;\n",
       "        if (unlikely(!__pyx_t_2)) <span class='error_goto'>__PYX_ERR(0, 13, __pyx_L1_error)</span>\n",
       "        <span class='refnanny'>__Pyx_GOTREF</span>(__pyx_t_2);\n",
       "        <span class='pyx_macro_api'>__Pyx_DECREF</span>(__pyx_t_3); __pyx_t_3 = 0;\n",
       "        <span class='pyx_macro_api'>__Pyx_DECREF</span>(__pyx_t_2); __pyx_t_2 = 0;\n",
       "        <span class='pyx_macro_api'>__Pyx_DECREF</span>(__pyx_t_1); __pyx_t_1 = 0;\n",
       "        goto __pyx_L0;\n",
       "      }\n",
       "      #if CYTHON_USE_DICT_VERSIONS &amp;&amp; CYTHON_USE_PYTYPE_LOOKUP &amp;&amp; CYTHON_USE_TYPE_SLOTS\n",
       "      __pyx_tp_dict_version = __Pyx_get_tp_dict_version(((PyObject *)__pyx_v_self));\n",
       "      __pyx_obj_dict_version = __Pyx_get_object_dict_version(((PyObject *)__pyx_v_self));\n",
       "      if (unlikely(__pyx_type_dict_guard != __pyx_tp_dict_version)) {\n",
       "        __pyx_tp_dict_version = __pyx_obj_dict_version = __PYX_DICT_VERSION_INIT;\n",
       "      }\n",
       "      #endif\n",
       "      <span class='pyx_macro_api'>__Pyx_DECREF</span>(__pyx_t_1); __pyx_t_1 = 0;\n",
       "      #if CYTHON_USE_DICT_VERSIONS &amp;&amp; CYTHON_USE_PYTYPE_LOOKUP &amp;&amp; CYTHON_USE_TYPE_SLOTS\n",
       "    }\n",
       "    #endif\n",
       "  }\n",
       "/* … */\n",
       "  /* function exit code */\n",
       "  goto __pyx_L0;\n",
       "  __pyx_L1_error:;\n",
       "  <span class='pyx_macro_api'>__Pyx_XDECREF</span>(__pyx_t_1);\n",
       "  <span class='pyx_macro_api'>__Pyx_XDECREF</span>(__pyx_t_2);\n",
       "  <span class='pyx_macro_api'>__Pyx_XDECREF</span>(__pyx_t_3);\n",
       "  <span class='pyx_macro_api'>__Pyx_XDECREF</span>(__pyx_t_4);\n",
       "  <span class='pyx_c_api'>__Pyx_WriteUnraisable</span>(\"_cython_magic_4cbe858b0bac041187585043da189128.LogVerosimilitud.transform_matrix\", __pyx_clineno, __pyx_lineno, __pyx_filename, 1, 0);\n",
       "  __pyx_L0:;\n",
       "  <span class='refnanny'>__Pyx_RefNannyFinishContext</span>();\n",
       "}\n",
       "\n",
       "/* Python wrapper */\n",
       "static PyObject *__pyx_pw_46_cython_magic_4cbe858b0bac041187585043da189128_16LogVerosimilitud_3transform_matrix(PyObject *__pyx_v_self, PyObject *__pyx_v_matrix); /*proto*/\n",
       "static PyObject *__pyx_pw_46_cython_magic_4cbe858b0bac041187585043da189128_16LogVerosimilitud_3transform_matrix(PyObject *__pyx_v_self, PyObject *__pyx_v_matrix) {\n",
       "  PyObject *__pyx_r = 0;\n",
       "  <span class='refnanny'>__Pyx_RefNannyDeclarations</span>\n",
       "  <span class='refnanny'>__Pyx_RefNannySetupContext</span>(\"transform_matrix (wrapper)\", 0);\n",
       "  __pyx_r = __pyx_pf_46_cython_magic_4cbe858b0bac041187585043da189128_16LogVerosimilitud_2transform_matrix(((struct __pyx_obj_46_cython_magic_4cbe858b0bac041187585043da189128_LogVerosimilitud *)__pyx_v_self), ((PyObject *)__pyx_v_matrix));\n",
       "\n",
       "  /* function exit code */\n",
       "  <span class='refnanny'>__Pyx_RefNannyFinishContext</span>();\n",
       "  return __pyx_r;\n",
       "}\n",
       "\n",
       "static PyObject *__pyx_pf_46_cython_magic_4cbe858b0bac041187585043da189128_16LogVerosimilitud_2transform_matrix(struct __pyx_obj_46_cython_magic_4cbe858b0bac041187585043da189128_LogVerosimilitud *__pyx_v_self, PyObject *__pyx_v_matrix) {\n",
       "  PyObject *__pyx_r = NULL;\n",
       "  <span class='refnanny'>__Pyx_RefNannyDeclarations</span>\n",
       "  <span class='refnanny'>__Pyx_RefNannySetupContext</span>(\"transform_matrix\", 0);\n",
       "  <span class='pyx_macro_api'>__Pyx_XDECREF</span>(__pyx_r);\n",
       "  __pyx_t_1 = __Pyx_void_to_None(__pyx_f_46_cython_magic_4cbe858b0bac041187585043da189128_16LogVerosimilitud_transform_matrix(__pyx_v_self, __pyx_v_matrix, 1));<span class='error_goto'> if (unlikely(!__pyx_t_1)) __PYX_ERR(0, 13, __pyx_L1_error)</span>\n",
       "  <span class='refnanny'>__Pyx_GOTREF</span>(__pyx_t_1);\n",
       "  __pyx_r = __pyx_t_1;\n",
       "  __pyx_t_1 = 0;\n",
       "  goto __pyx_L0;\n",
       "\n",
       "  /* function exit code */\n",
       "  __pyx_L1_error:;\n",
       "  <span class='pyx_macro_api'>__Pyx_XDECREF</span>(__pyx_t_1);\n",
       "  <span class='pyx_c_api'>__Pyx_AddTraceback</span>(\"_cython_magic_4cbe858b0bac041187585043da189128.LogVerosimilitud.transform_matrix\", __pyx_clineno, __pyx_lineno, __pyx_filename);\n",
       "  __pyx_r = NULL;\n",
       "  __pyx_L0:;\n",
       "  <span class='refnanny'>__Pyx_XGIVEREF</span>(__pyx_r);\n",
       "  <span class='refnanny'>__Pyx_RefNannyFinishContext</span>();\n",
       "  return __pyx_r;\n",
       "}\n",
       "</pre><pre class=\"cython line score-0\">&#xA0;<span class=\"\">14</span>:         <span class=\"k\">cdef</span> <span class=\"kt\">int</span> <span class=\"nf\">i</span><span class=\"p\">,</span><span class=\"nf\">j</span></pre>\n",
       "<pre class=\"cython line score-0\" onclick=\"(function(s){s.display=s.display==='block'?'none':'block'})(this.nextElementSibling.style)\">+<span class=\"\">15</span>:         <span class=\"k\">for</span> <span class=\"n\">i</span> <span class=\"ow\">in</span> <span class=\"nb\">range</span><span class=\"p\">(</span><span class=\"mf\">8371</span><span class=\"p\">):</span></pre>\n",
       "<pre class='cython code score-0 '>  for (__pyx_t_5 = 0; __pyx_t_5 &lt; 0x20B3; __pyx_t_5+=1) {\n",
       "    __pyx_v_i = __pyx_t_5;\n",
       "</pre><pre class=\"cython line score-0\" onclick=\"(function(s){s.display=s.display==='block'?'none':'block'})(this.nextElementSibling.style)\">+<span class=\"\">16</span>:             <span class=\"k\">for</span> <span class=\"n\">j</span> <span class=\"ow\">in</span> <span class=\"nb\">range</span><span class=\"p\">(</span><span class=\"mf\">56</span><span class=\"p\">):</span></pre>\n",
       "<pre class='cython code score-0 '>    for (__pyx_t_6 = 0; __pyx_t_6 &lt; 56; __pyx_t_6+=1) {\n",
       "      __pyx_v_j = __pyx_t_6;\n",
       "</pre><pre class=\"cython line score-16\" onclick=\"(function(s){s.display=s.display==='block'?'none':'block'})(this.nextElementSibling.style)\">+<span class=\"\">17</span>:                 <span class=\"p\">(</span><span class=\"bp\">self</span><span class=\"o\">.</span><span class=\"n\">X</span><span class=\"p\">)[</span><span class=\"n\">i</span><span class=\"p\">][</span><span class=\"n\">j</span><span class=\"p\">]</span> <span class=\"o\">=</span> <span class=\"n\">matrix</span><span class=\"p\">[</span><span class=\"n\">i</span><span class=\"p\">][</span><span class=\"n\">j</span><span class=\"p\">]</span></pre>\n",
       "<pre class='cython code score-16 '>      __pyx_t_1 = <span class='pyx_c_api'>__Pyx_GetItemInt</span>(__pyx_v_matrix, __pyx_v_i, int, 1, __Pyx_PyInt_From_int, 0, 1, 1);<span class='error_goto'> if (unlikely(!__pyx_t_1)) __PYX_ERR(0, 17, __pyx_L1_error)</span>\n",
       "      <span class='refnanny'>__Pyx_GOTREF</span>(__pyx_t_1);\n",
       "      __pyx_t_2 = <span class='pyx_c_api'>__Pyx_GetItemInt</span>(__pyx_t_1, __pyx_v_j, int, 1, __Pyx_PyInt_From_int, 0, 1, 1);<span class='error_goto'> if (unlikely(!__pyx_t_2)) __PYX_ERR(0, 17, __pyx_L1_error)</span>\n",
       "      <span class='refnanny'>__Pyx_GOTREF</span>(__pyx_t_2);\n",
       "      <span class='pyx_macro_api'>__Pyx_DECREF</span>(__pyx_t_1); __pyx_t_1 = 0;\n",
       "      __pyx_t_7 = __pyx_<span class='py_c_api'>PyFloat_AsDouble</span>(__pyx_t_2); if (unlikely((__pyx_t_7 == (double)-1) &amp;&amp; <span class='py_c_api'>PyErr_Occurred</span>())) <span class='error_goto'>__PYX_ERR(0, 17, __pyx_L1_error)</span>\n",
       "      <span class='pyx_macro_api'>__Pyx_DECREF</span>(__pyx_t_2); __pyx_t_2 = 0;\n",
       "      ((__pyx_v_self-&gt;X[__pyx_v_i])[__pyx_v_j]) = __pyx_t_7;\n",
       "    }\n",
       "  }\n",
       "</pre><pre class=\"cython line score-0\">&#xA0;<span class=\"\">18</span>: </pre>\n",
       "<pre class=\"cython line score-30\" onclick=\"(function(s){s.display=s.display==='block'?'none':'block'})(this.nextElementSibling.style)\">+<span class=\"\">19</span>:     <span class=\"k\">cpdef</span> <span class=\"kt\">void</span> <span class=\"nf\">transform_array</span><span class=\"p\">(</span><span class=\"bp\">self</span><span class=\"p\">,</span><span class=\"n\">array</span><span class=\"p\">):</span></pre>\n",
       "<pre class='cython code score-30 '>static PyObject *__pyx_pw_46_cython_magic_4cbe858b0bac041187585043da189128_16LogVerosimilitud_5transform_array(PyObject *__pyx_v_self, PyObject *__pyx_v_array); /*proto*/\n",
       "static void __pyx_f_46_cython_magic_4cbe858b0bac041187585043da189128_16LogVerosimilitud_transform_array(struct __pyx_obj_46_cython_magic_4cbe858b0bac041187585043da189128_LogVerosimilitud *__pyx_v_self, PyObject *__pyx_v_array, int __pyx_skip_dispatch) {\n",
       "  int __pyx_v_i;\n",
       "  <span class='refnanny'>__Pyx_RefNannyDeclarations</span>\n",
       "  <span class='refnanny'>__Pyx_RefNannySetupContext</span>(\"transform_array\", 0);\n",
       "  /* Check if called by wrapper */\n",
       "  if (unlikely(__pyx_skip_dispatch)) ;\n",
       "  /* Check if overridden in Python */\n",
       "  else if (unlikely((Py_TYPE(((PyObject *)__pyx_v_self))-&gt;tp_dictoffset != 0) || (Py_TYPE(((PyObject *)__pyx_v_self))-&gt;tp_flags &amp; (Py_TPFLAGS_IS_ABSTRACT | Py_TPFLAGS_HEAPTYPE)))) {\n",
       "    #if CYTHON_USE_DICT_VERSIONS &amp;&amp; CYTHON_USE_PYTYPE_LOOKUP &amp;&amp; CYTHON_USE_TYPE_SLOTS\n",
       "    static PY_UINT64_T __pyx_tp_dict_version = __PYX_DICT_VERSION_INIT, __pyx_obj_dict_version = __PYX_DICT_VERSION_INIT;\n",
       "    if (unlikely(!__Pyx_object_dict_version_matches(((PyObject *)__pyx_v_self), __pyx_tp_dict_version, __pyx_obj_dict_version))) {\n",
       "      PY_UINT64_T __pyx_type_dict_guard = __Pyx_get_tp_dict_version(((PyObject *)__pyx_v_self));\n",
       "      #endif\n",
       "      __pyx_t_1 = <span class='pyx_c_api'>__Pyx_PyObject_GetAttrStr</span>(((PyObject *)__pyx_v_self), __pyx_n_s_transform_array);<span class='error_goto'> if (unlikely(!__pyx_t_1)) __PYX_ERR(0, 19, __pyx_L1_error)</span>\n",
       "      <span class='refnanny'>__Pyx_GOTREF</span>(__pyx_t_1);\n",
       "      if (!PyCFunction_Check(__pyx_t_1) || (PyCFunction_GET_FUNCTION(__pyx_t_1) != (PyCFunction)(void*)__pyx_pw_46_cython_magic_4cbe858b0bac041187585043da189128_16LogVerosimilitud_5transform_array)) {\n",
       "        <span class='pyx_macro_api'>__Pyx_INCREF</span>(__pyx_t_1);\n",
       "        __pyx_t_3 = __pyx_t_1; __pyx_t_4 = NULL;\n",
       "        if (CYTHON_UNPACK_METHODS &amp;&amp; unlikely(<span class='py_c_api'>PyMethod_Check</span>(__pyx_t_3))) {\n",
       "          __pyx_t_4 = <span class='py_macro_api'>PyMethod_GET_SELF</span>(__pyx_t_3);\n",
       "          if (likely(__pyx_t_4)) {\n",
       "            PyObject* function = <span class='py_macro_api'>PyMethod_GET_FUNCTION</span>(__pyx_t_3);\n",
       "            <span class='pyx_macro_api'>__Pyx_INCREF</span>(__pyx_t_4);\n",
       "            <span class='pyx_macro_api'>__Pyx_INCREF</span>(function);\n",
       "            <span class='pyx_macro_api'>__Pyx_DECREF_SET</span>(__pyx_t_3, function);\n",
       "          }\n",
       "        }\n",
       "        __pyx_t_2 = (__pyx_t_4) ? __Pyx_PyObject_Call2Args(__pyx_t_3, __pyx_t_4, __pyx_v_array) : <span class='pyx_c_api'>__Pyx_PyObject_CallOneArg</span>(__pyx_t_3, __pyx_v_array);\n",
       "        <span class='pyx_macro_api'>__Pyx_XDECREF</span>(__pyx_t_4); __pyx_t_4 = 0;\n",
       "        if (unlikely(!__pyx_t_2)) <span class='error_goto'>__PYX_ERR(0, 19, __pyx_L1_error)</span>\n",
       "        <span class='refnanny'>__Pyx_GOTREF</span>(__pyx_t_2);\n",
       "        <span class='pyx_macro_api'>__Pyx_DECREF</span>(__pyx_t_3); __pyx_t_3 = 0;\n",
       "        <span class='pyx_macro_api'>__Pyx_DECREF</span>(__pyx_t_2); __pyx_t_2 = 0;\n",
       "        <span class='pyx_macro_api'>__Pyx_DECREF</span>(__pyx_t_1); __pyx_t_1 = 0;\n",
       "        goto __pyx_L0;\n",
       "      }\n",
       "      #if CYTHON_USE_DICT_VERSIONS &amp;&amp; CYTHON_USE_PYTYPE_LOOKUP &amp;&amp; CYTHON_USE_TYPE_SLOTS\n",
       "      __pyx_tp_dict_version = __Pyx_get_tp_dict_version(((PyObject *)__pyx_v_self));\n",
       "      __pyx_obj_dict_version = __Pyx_get_object_dict_version(((PyObject *)__pyx_v_self));\n",
       "      if (unlikely(__pyx_type_dict_guard != __pyx_tp_dict_version)) {\n",
       "        __pyx_tp_dict_version = __pyx_obj_dict_version = __PYX_DICT_VERSION_INIT;\n",
       "      }\n",
       "      #endif\n",
       "      <span class='pyx_macro_api'>__Pyx_DECREF</span>(__pyx_t_1); __pyx_t_1 = 0;\n",
       "      #if CYTHON_USE_DICT_VERSIONS &amp;&amp; CYTHON_USE_PYTYPE_LOOKUP &amp;&amp; CYTHON_USE_TYPE_SLOTS\n",
       "    }\n",
       "    #endif\n",
       "  }\n",
       "/* … */\n",
       "  /* function exit code */\n",
       "  goto __pyx_L0;\n",
       "  __pyx_L1_error:;\n",
       "  <span class='pyx_macro_api'>__Pyx_XDECREF</span>(__pyx_t_1);\n",
       "  <span class='pyx_macro_api'>__Pyx_XDECREF</span>(__pyx_t_2);\n",
       "  <span class='pyx_macro_api'>__Pyx_XDECREF</span>(__pyx_t_3);\n",
       "  <span class='pyx_macro_api'>__Pyx_XDECREF</span>(__pyx_t_4);\n",
       "  <span class='pyx_c_api'>__Pyx_WriteUnraisable</span>(\"_cython_magic_4cbe858b0bac041187585043da189128.LogVerosimilitud.transform_array\", __pyx_clineno, __pyx_lineno, __pyx_filename, 1, 0);\n",
       "  __pyx_L0:;\n",
       "  <span class='refnanny'>__Pyx_RefNannyFinishContext</span>();\n",
       "}\n",
       "\n",
       "/* Python wrapper */\n",
       "static PyObject *__pyx_pw_46_cython_magic_4cbe858b0bac041187585043da189128_16LogVerosimilitud_5transform_array(PyObject *__pyx_v_self, PyObject *__pyx_v_array); /*proto*/\n",
       "static PyObject *__pyx_pw_46_cython_magic_4cbe858b0bac041187585043da189128_16LogVerosimilitud_5transform_array(PyObject *__pyx_v_self, PyObject *__pyx_v_array) {\n",
       "  PyObject *__pyx_r = 0;\n",
       "  <span class='refnanny'>__Pyx_RefNannyDeclarations</span>\n",
       "  <span class='refnanny'>__Pyx_RefNannySetupContext</span>(\"transform_array (wrapper)\", 0);\n",
       "  __pyx_r = __pyx_pf_46_cython_magic_4cbe858b0bac041187585043da189128_16LogVerosimilitud_4transform_array(((struct __pyx_obj_46_cython_magic_4cbe858b0bac041187585043da189128_LogVerosimilitud *)__pyx_v_self), ((PyObject *)__pyx_v_array));\n",
       "\n",
       "  /* function exit code */\n",
       "  <span class='refnanny'>__Pyx_RefNannyFinishContext</span>();\n",
       "  return __pyx_r;\n",
       "}\n",
       "\n",
       "static PyObject *__pyx_pf_46_cython_magic_4cbe858b0bac041187585043da189128_16LogVerosimilitud_4transform_array(struct __pyx_obj_46_cython_magic_4cbe858b0bac041187585043da189128_LogVerosimilitud *__pyx_v_self, PyObject *__pyx_v_array) {\n",
       "  PyObject *__pyx_r = NULL;\n",
       "  <span class='refnanny'>__Pyx_RefNannyDeclarations</span>\n",
       "  <span class='refnanny'>__Pyx_RefNannySetupContext</span>(\"transform_array\", 0);\n",
       "  <span class='pyx_macro_api'>__Pyx_XDECREF</span>(__pyx_r);\n",
       "  __pyx_t_1 = __Pyx_void_to_None(__pyx_f_46_cython_magic_4cbe858b0bac041187585043da189128_16LogVerosimilitud_transform_array(__pyx_v_self, __pyx_v_array, 1));<span class='error_goto'> if (unlikely(!__pyx_t_1)) __PYX_ERR(0, 19, __pyx_L1_error)</span>\n",
       "  <span class='refnanny'>__Pyx_GOTREF</span>(__pyx_t_1);\n",
       "  __pyx_r = __pyx_t_1;\n",
       "  __pyx_t_1 = 0;\n",
       "  goto __pyx_L0;\n",
       "\n",
       "  /* function exit code */\n",
       "  __pyx_L1_error:;\n",
       "  <span class='pyx_macro_api'>__Pyx_XDECREF</span>(__pyx_t_1);\n",
       "  <span class='pyx_c_api'>__Pyx_AddTraceback</span>(\"_cython_magic_4cbe858b0bac041187585043da189128.LogVerosimilitud.transform_array\", __pyx_clineno, __pyx_lineno, __pyx_filename);\n",
       "  __pyx_r = NULL;\n",
       "  __pyx_L0:;\n",
       "  <span class='refnanny'>__Pyx_XGIVEREF</span>(__pyx_r);\n",
       "  <span class='refnanny'>__Pyx_RefNannyFinishContext</span>();\n",
       "  return __pyx_r;\n",
       "}\n",
       "</pre><pre class=\"cython line score-0\">&#xA0;<span class=\"\">20</span>:         <span class=\"k\">cdef</span> <span class=\"kt\">int</span> <span class=\"nf\">i</span></pre>\n",
       "<pre class=\"cython line score-0\" onclick=\"(function(s){s.display=s.display==='block'?'none':'block'})(this.nextElementSibling.style)\">+<span class=\"\">21</span>:         <span class=\"k\">for</span> <span class=\"n\">i</span> <span class=\"ow\">in</span> <span class=\"nb\">range</span><span class=\"p\">(</span><span class=\"mf\">8371</span><span class=\"p\">):</span></pre>\n",
       "<pre class='cython code score-0 '>  for (__pyx_t_5 = 0; __pyx_t_5 &lt; 0x20B3; __pyx_t_5+=1) {\n",
       "    __pyx_v_i = __pyx_t_5;\n",
       "</pre><pre class=\"cython line score-13\" onclick=\"(function(s){s.display=s.display==='block'?'none':'block'})(this.nextElementSibling.style)\">+<span class=\"\">22</span>:                 <span class=\"p\">(</span><span class=\"bp\">self</span><span class=\"o\">.</span><span class=\"n\">y</span><span class=\"p\">)[</span><span class=\"n\">i</span><span class=\"p\">]</span> <span class=\"o\">=</span> <span class=\"n\">array</span><span class=\"p\">[</span><span class=\"n\">i</span><span class=\"p\">]</span></pre>\n",
       "<pre class='cython code score-13 '>    __pyx_t_1 = <span class='pyx_c_api'>__Pyx_GetItemInt</span>(__pyx_v_array, __pyx_v_i, int, 1, __Pyx_PyInt_From_int, 0, 1, 1);<span class='error_goto'> if (unlikely(!__pyx_t_1)) __PYX_ERR(0, 22, __pyx_L1_error)</span>\n",
       "    <span class='refnanny'>__Pyx_GOTREF</span>(__pyx_t_1);\n",
       "    __pyx_t_6 = __pyx_<span class='py_c_api'>PyFloat_AsDouble</span>(__pyx_t_1); if (unlikely((__pyx_t_6 == (double)-1) &amp;&amp; <span class='py_c_api'>PyErr_Occurred</span>())) <span class='error_goto'>__PYX_ERR(0, 22, __pyx_L1_error)</span>\n",
       "    <span class='pyx_macro_api'>__Pyx_DECREF</span>(__pyx_t_1); __pyx_t_1 = 0;\n",
       "    (__pyx_v_self-&gt;y[__pyx_v_i]) = __pyx_t_6;\n",
       "  }\n",
       "</pre><pre class=\"cython line score-0\">&#xA0;<span class=\"\">23</span>: </pre>\n",
       "<pre class=\"cython line score-0\">&#xA0;<span class=\"\">24</span>:     <span class=\"nd\">@cython</span><span class=\"o\">.</span><span class=\"n\">cdivision</span></pre>\n",
       "<pre class=\"cython line score-45\" onclick=\"(function(s){s.display=s.display==='block'?'none':'block'})(this.nextElementSibling.style)\">+<span class=\"\">25</span>:     <span class=\"k\">cpdef</span> <span class=\"kt\">double</span> <span class=\"nf\">get</span><span class=\"p\">(</span><span class=\"bp\">self</span><span class=\"p\">,</span><span class=\"n\">w</span><span class=\"p\">):</span></pre>\n",
       "<pre class='cython code score-45 '>static PyObject *__pyx_pw_46_cython_magic_4cbe858b0bac041187585043da189128_16LogVerosimilitud_7get(PyObject *__pyx_v_self, PyObject *__pyx_v_w); /*proto*/\n",
       "static double __pyx_f_46_cython_magic_4cbe858b0bac041187585043da189128_16LogVerosimilitud_get(struct __pyx_obj_46_cython_magic_4cbe858b0bac041187585043da189128_LogVerosimilitud *__pyx_v_self, PyObject *__pyx_v_w, int __pyx_skip_dispatch) {\n",
       "  double __pyx_v_w_c[56];\n",
       "  double __pyx_v_var[0x20B3];\n",
       "  double __pyx_v_sigs[0x20B3];\n",
       "  double __pyx_v_answer;\n",
       "  int __pyx_v_i;\n",
       "  int __pyx_v_j;\n",
       "  double __pyx_r;\n",
       "  <span class='refnanny'>__Pyx_RefNannyDeclarations</span>\n",
       "  <span class='refnanny'>__Pyx_RefNannySetupContext</span>(\"get\", 0);\n",
       "  /* Check if called by wrapper */\n",
       "  if (unlikely(__pyx_skip_dispatch)) ;\n",
       "  /* Check if overridden in Python */\n",
       "  else if (unlikely((Py_TYPE(((PyObject *)__pyx_v_self))-&gt;tp_dictoffset != 0) || (Py_TYPE(((PyObject *)__pyx_v_self))-&gt;tp_flags &amp; (Py_TPFLAGS_IS_ABSTRACT | Py_TPFLAGS_HEAPTYPE)))) {\n",
       "    #if CYTHON_USE_DICT_VERSIONS &amp;&amp; CYTHON_USE_PYTYPE_LOOKUP &amp;&amp; CYTHON_USE_TYPE_SLOTS\n",
       "    static PY_UINT64_T __pyx_tp_dict_version = __PYX_DICT_VERSION_INIT, __pyx_obj_dict_version = __PYX_DICT_VERSION_INIT;\n",
       "    if (unlikely(!__Pyx_object_dict_version_matches(((PyObject *)__pyx_v_self), __pyx_tp_dict_version, __pyx_obj_dict_version))) {\n",
       "      PY_UINT64_T __pyx_type_dict_guard = __Pyx_get_tp_dict_version(((PyObject *)__pyx_v_self));\n",
       "      #endif\n",
       "      __pyx_t_1 = <span class='pyx_c_api'>__Pyx_PyObject_GetAttrStr</span>(((PyObject *)__pyx_v_self), __pyx_n_s_get);<span class='error_goto'> if (unlikely(!__pyx_t_1)) __PYX_ERR(0, 25, __pyx_L1_error)</span>\n",
       "      <span class='refnanny'>__Pyx_GOTREF</span>(__pyx_t_1);\n",
       "      if (!PyCFunction_Check(__pyx_t_1) || (PyCFunction_GET_FUNCTION(__pyx_t_1) != (PyCFunction)(void*)__pyx_pw_46_cython_magic_4cbe858b0bac041187585043da189128_16LogVerosimilitud_7get)) {\n",
       "        <span class='pyx_macro_api'>__Pyx_INCREF</span>(__pyx_t_1);\n",
       "        __pyx_t_3 = __pyx_t_1; __pyx_t_4 = NULL;\n",
       "        if (CYTHON_UNPACK_METHODS &amp;&amp; unlikely(<span class='py_c_api'>PyMethod_Check</span>(__pyx_t_3))) {\n",
       "          __pyx_t_4 = <span class='py_macro_api'>PyMethod_GET_SELF</span>(__pyx_t_3);\n",
       "          if (likely(__pyx_t_4)) {\n",
       "            PyObject* function = <span class='py_macro_api'>PyMethod_GET_FUNCTION</span>(__pyx_t_3);\n",
       "            <span class='pyx_macro_api'>__Pyx_INCREF</span>(__pyx_t_4);\n",
       "            <span class='pyx_macro_api'>__Pyx_INCREF</span>(function);\n",
       "            <span class='pyx_macro_api'>__Pyx_DECREF_SET</span>(__pyx_t_3, function);\n",
       "          }\n",
       "        }\n",
       "        __pyx_t_2 = (__pyx_t_4) ? __Pyx_PyObject_Call2Args(__pyx_t_3, __pyx_t_4, __pyx_v_w) : <span class='pyx_c_api'>__Pyx_PyObject_CallOneArg</span>(__pyx_t_3, __pyx_v_w);\n",
       "        <span class='pyx_macro_api'>__Pyx_XDECREF</span>(__pyx_t_4); __pyx_t_4 = 0;\n",
       "        if (unlikely(!__pyx_t_2)) <span class='error_goto'>__PYX_ERR(0, 25, __pyx_L1_error)</span>\n",
       "        <span class='refnanny'>__Pyx_GOTREF</span>(__pyx_t_2);\n",
       "        <span class='pyx_macro_api'>__Pyx_DECREF</span>(__pyx_t_3); __pyx_t_3 = 0;\n",
       "        __pyx_t_5 = __pyx_<span class='py_c_api'>PyFloat_AsDouble</span>(__pyx_t_2); if (unlikely((__pyx_t_5 == (double)-1) &amp;&amp; <span class='py_c_api'>PyErr_Occurred</span>())) <span class='error_goto'>__PYX_ERR(0, 25, __pyx_L1_error)</span>\n",
       "        <span class='pyx_macro_api'>__Pyx_DECREF</span>(__pyx_t_2); __pyx_t_2 = 0;\n",
       "        __pyx_r = __pyx_t_5;\n",
       "        <span class='pyx_macro_api'>__Pyx_DECREF</span>(__pyx_t_1); __pyx_t_1 = 0;\n",
       "        goto __pyx_L0;\n",
       "      }\n",
       "      #if CYTHON_USE_DICT_VERSIONS &amp;&amp; CYTHON_USE_PYTYPE_LOOKUP &amp;&amp; CYTHON_USE_TYPE_SLOTS\n",
       "      __pyx_tp_dict_version = __Pyx_get_tp_dict_version(((PyObject *)__pyx_v_self));\n",
       "      __pyx_obj_dict_version = __Pyx_get_object_dict_version(((PyObject *)__pyx_v_self));\n",
       "      if (unlikely(__pyx_type_dict_guard != __pyx_tp_dict_version)) {\n",
       "        __pyx_tp_dict_version = __pyx_obj_dict_version = __PYX_DICT_VERSION_INIT;\n",
       "      }\n",
       "      #endif\n",
       "      <span class='pyx_macro_api'>__Pyx_DECREF</span>(__pyx_t_1); __pyx_t_1 = 0;\n",
       "      #if CYTHON_USE_DICT_VERSIONS &amp;&amp; CYTHON_USE_PYTYPE_LOOKUP &amp;&amp; CYTHON_USE_TYPE_SLOTS\n",
       "    }\n",
       "    #endif\n",
       "  }\n",
       "/* … */\n",
       "  /* function exit code */\n",
       "  __pyx_L1_error:;\n",
       "  <span class='pyx_macro_api'>__Pyx_XDECREF</span>(__pyx_t_1);\n",
       "  <span class='pyx_macro_api'>__Pyx_XDECREF</span>(__pyx_t_2);\n",
       "  <span class='pyx_macro_api'>__Pyx_XDECREF</span>(__pyx_t_3);\n",
       "  <span class='pyx_macro_api'>__Pyx_XDECREF</span>(__pyx_t_4);\n",
       "  <span class='pyx_c_api'>__Pyx_WriteUnraisable</span>(\"_cython_magic_4cbe858b0bac041187585043da189128.LogVerosimilitud.get\", __pyx_clineno, __pyx_lineno, __pyx_filename, 1, 0);\n",
       "  __pyx_r = 0;\n",
       "  __pyx_L0:;\n",
       "  <span class='refnanny'>__Pyx_RefNannyFinishContext</span>();\n",
       "  return __pyx_r;\n",
       "}\n",
       "\n",
       "/* Python wrapper */\n",
       "static PyObject *__pyx_pw_46_cython_magic_4cbe858b0bac041187585043da189128_16LogVerosimilitud_7get(PyObject *__pyx_v_self, PyObject *__pyx_v_w); /*proto*/\n",
       "static PyObject *__pyx_pw_46_cython_magic_4cbe858b0bac041187585043da189128_16LogVerosimilitud_7get(PyObject *__pyx_v_self, PyObject *__pyx_v_w) {\n",
       "  PyObject *__pyx_r = 0;\n",
       "  <span class='refnanny'>__Pyx_RefNannyDeclarations</span>\n",
       "  <span class='refnanny'>__Pyx_RefNannySetupContext</span>(\"get (wrapper)\", 0);\n",
       "  __pyx_r = __pyx_pf_46_cython_magic_4cbe858b0bac041187585043da189128_16LogVerosimilitud_6get(((struct __pyx_obj_46_cython_magic_4cbe858b0bac041187585043da189128_LogVerosimilitud *)__pyx_v_self), ((PyObject *)__pyx_v_w));\n",
       "\n",
       "  /* function exit code */\n",
       "  <span class='refnanny'>__Pyx_RefNannyFinishContext</span>();\n",
       "  return __pyx_r;\n",
       "}\n",
       "\n",
       "static PyObject *__pyx_pf_46_cython_magic_4cbe858b0bac041187585043da189128_16LogVerosimilitud_6get(struct __pyx_obj_46_cython_magic_4cbe858b0bac041187585043da189128_LogVerosimilitud *__pyx_v_self, PyObject *__pyx_v_w) {\n",
       "  PyObject *__pyx_r = NULL;\n",
       "  <span class='refnanny'>__Pyx_RefNannyDeclarations</span>\n",
       "  <span class='refnanny'>__Pyx_RefNannySetupContext</span>(\"get\", 0);\n",
       "  <span class='pyx_macro_api'>__Pyx_XDECREF</span>(__pyx_r);\n",
       "  __pyx_t_1 = <span class='py_c_api'>PyFloat_FromDouble</span>(__pyx_f_46_cython_magic_4cbe858b0bac041187585043da189128_16LogVerosimilitud_get(__pyx_v_self, __pyx_v_w, 1));<span class='error_goto'> if (unlikely(!__pyx_t_1)) __PYX_ERR(0, 25, __pyx_L1_error)</span>\n",
       "  <span class='refnanny'>__Pyx_GOTREF</span>(__pyx_t_1);\n",
       "  __pyx_r = __pyx_t_1;\n",
       "  __pyx_t_1 = 0;\n",
       "  goto __pyx_L0;\n",
       "\n",
       "  /* function exit code */\n",
       "  __pyx_L1_error:;\n",
       "  <span class='pyx_macro_api'>__Pyx_XDECREF</span>(__pyx_t_1);\n",
       "  <span class='pyx_c_api'>__Pyx_AddTraceback</span>(\"_cython_magic_4cbe858b0bac041187585043da189128.LogVerosimilitud.get\", __pyx_clineno, __pyx_lineno, __pyx_filename);\n",
       "  __pyx_r = NULL;\n",
       "  __pyx_L0:;\n",
       "  <span class='refnanny'>__Pyx_XGIVEREF</span>(__pyx_r);\n",
       "  <span class='refnanny'>__Pyx_RefNannyFinishContext</span>();\n",
       "  return __pyx_r;\n",
       "}\n",
       "</pre><pre class=\"cython line score-0\">&#xA0;<span class=\"\">26</span>:         <span class=\"k\">cdef</span> <span class=\"kt\">double</span> <span class=\"kt\">w_c</span>[56]</pre>\n",
       "<pre class=\"cython line score-0\">&#xA0;<span class=\"\">27</span>:         <span class=\"k\">cdef</span> <span class=\"kt\">double</span> <span class=\"kt\">var</span>[8371]</pre>\n",
       "<pre class=\"cython line score-0\">&#xA0;<span class=\"\">28</span>:         <span class=\"k\">cdef</span> <span class=\"kt\">double</span> <span class=\"kt\">sigs</span>[8371]</pre>\n",
       "<pre class=\"cython line score-0\" onclick=\"(function(s){s.display=s.display==='block'?'none':'block'})(this.nextElementSibling.style)\">+<span class=\"\">29</span>:         <span class=\"k\">cdef</span> <span class=\"kt\">double</span> <span class=\"nf\">answer</span> <span class=\"o\">=</span> <span class=\"mf\">0</span></pre>\n",
       "<pre class='cython code score-0 '>  __pyx_v_answer = 0.0;\n",
       "</pre><pre class=\"cython line score-0\">&#xA0;<span class=\"\">30</span>:         <span class=\"k\">cdef</span> <span class=\"kt\">int</span> <span class=\"nf\">i</span><span class=\"p\">,</span><span class=\"nf\">j</span></pre>\n",
       "<pre class=\"cython line score-0\">&#xA0;<span class=\"\">31</span>: </pre>\n",
       "<pre class=\"cython line score-0\" onclick=\"(function(s){s.display=s.display==='block'?'none':'block'})(this.nextElementSibling.style)\">+<span class=\"\">32</span>:         <span class=\"k\">for</span> <span class=\"n\">i</span> <span class=\"ow\">in</span> <span class=\"nb\">range</span><span class=\"p\">(</span><span class=\"mf\">56</span><span class=\"p\">):</span></pre>\n",
       "<pre class='cython code score-0 '>  for (__pyx_t_6 = 0; __pyx_t_6 &lt; 56; __pyx_t_6+=1) {\n",
       "    __pyx_v_i = __pyx_t_6;\n",
       "</pre><pre class=\"cython line score-13\" onclick=\"(function(s){s.display=s.display==='block'?'none':'block'})(this.nextElementSibling.style)\">+<span class=\"\">33</span>:             <span class=\"n\">w_c</span><span class=\"p\">[</span><span class=\"n\">i</span><span class=\"p\">]</span> <span class=\"o\">=</span> <span class=\"n\">w</span><span class=\"p\">[</span><span class=\"n\">i</span><span class=\"p\">]</span></pre>\n",
       "<pre class='cython code score-13 '>    __pyx_t_1 = <span class='pyx_c_api'>__Pyx_GetItemInt</span>(__pyx_v_w, __pyx_v_i, int, 1, __Pyx_PyInt_From_int, 0, 1, 1);<span class='error_goto'> if (unlikely(!__pyx_t_1)) __PYX_ERR(0, 33, __pyx_L1_error)</span>\n",
       "    <span class='refnanny'>__Pyx_GOTREF</span>(__pyx_t_1);\n",
       "    __pyx_t_5 = __pyx_<span class='py_c_api'>PyFloat_AsDouble</span>(__pyx_t_1); if (unlikely((__pyx_t_5 == (double)-1) &amp;&amp; <span class='py_c_api'>PyErr_Occurred</span>())) <span class='error_goto'>__PYX_ERR(0, 33, __pyx_L1_error)</span>\n",
       "    <span class='pyx_macro_api'>__Pyx_DECREF</span>(__pyx_t_1); __pyx_t_1 = 0;\n",
       "    (__pyx_v_w_c[__pyx_v_i]) = __pyx_t_5;\n",
       "  }\n",
       "</pre><pre class=\"cython line score-0\">&#xA0;<span class=\"\">34</span>: </pre>\n",
       "<pre class=\"cython line score-0\" onclick=\"(function(s){s.display=s.display==='block'?'none':'block'})(this.nextElementSibling.style)\">+<span class=\"\">35</span>:         <span class=\"k\">for</span> <span class=\"n\">i</span> <span class=\"ow\">in</span> <span class=\"nb\">range</span><span class=\"p\">(</span><span class=\"mf\">8371</span><span class=\"p\">):</span></pre>\n",
       "<pre class='cython code score-0 '>  for (__pyx_t_6 = 0; __pyx_t_6 &lt; 0x20B3; __pyx_t_6+=1) {\n",
       "    __pyx_v_i = __pyx_t_6;\n",
       "</pre><pre class=\"cython line score-0\" onclick=\"(function(s){s.display=s.display==='block'?'none':'block'})(this.nextElementSibling.style)\">+<span class=\"\">36</span>:             <span class=\"n\">var</span><span class=\"p\">[</span><span class=\"n\">i</span><span class=\"p\">]</span><span class=\"o\">=</span><span class=\"mf\">0</span></pre>\n",
       "<pre class='cython code score-0 '>    (__pyx_v_var[__pyx_v_i]) = 0.0;\n",
       "</pre><pre class=\"cython line score-0\" onclick=\"(function(s){s.display=s.display==='block'?'none':'block'})(this.nextElementSibling.style)\">+<span class=\"\">37</span>:             <span class=\"k\">for</span> <span class=\"n\">j</span> <span class=\"ow\">in</span> <span class=\"nb\">range</span><span class=\"p\">(</span><span class=\"mf\">56</span><span class=\"p\">):</span></pre>\n",
       "<pre class='cython code score-0 '>    for (__pyx_t_7 = 0; __pyx_t_7 &lt; 56; __pyx_t_7+=1) {\n",
       "      __pyx_v_j = __pyx_t_7;\n",
       "</pre><pre class=\"cython line score-0\" onclick=\"(function(s){s.display=s.display==='block'?'none':'block'})(this.nextElementSibling.style)\">+<span class=\"\">38</span>:                 <span class=\"n\">var</span><span class=\"p\">[</span><span class=\"n\">i</span><span class=\"p\">]</span> <span class=\"o\">+=</span> <span class=\"p\">((</span><span class=\"bp\">self</span><span class=\"o\">.</span><span class=\"n\">X</span><span class=\"p\">)[</span><span class=\"n\">i</span><span class=\"p\">][</span><span class=\"n\">j</span><span class=\"p\">])</span> <span class=\"o\">*</span> <span class=\"n\">w_c</span><span class=\"p\">[</span><span class=\"n\">j</span><span class=\"p\">]</span></pre>\n",
       "<pre class='cython code score-0 '>      __pyx_t_8 = __pyx_v_i;\n",
       "      (__pyx_v_var[__pyx_t_8]) = ((__pyx_v_var[__pyx_t_8]) + (((__pyx_v_self-&gt;X[__pyx_v_i])[__pyx_v_j]) * (__pyx_v_w_c[__pyx_v_j])));\n",
       "    }\n",
       "</pre><pre class=\"cython line score-0\" onclick=\"(function(s){s.display=s.display==='block'?'none':'block'})(this.nextElementSibling.style)\">+<span class=\"\">39</span>:             <span class=\"n\">sigs</span><span class=\"p\">[</span><span class=\"n\">i</span><span class=\"p\">]</span> <span class=\"o\">=</span> <span class=\"mf\">1</span> <span class=\"o\">/</span> <span class=\"p\">&lt;</span><span class=\"kt\">double</span><span class=\"p\">&gt;(</span><span class=\"mf\">1</span><span class=\"o\">+</span> <span class=\"n\">exp</span><span class=\"p\">(</span><span class=\"o\">-</span><span class=\"n\">var</span><span class=\"p\">[</span><span class=\"n\">i</span><span class=\"p\">]))</span></pre>\n",
       "<pre class='cython code score-0 '>    (__pyx_v_sigs[__pyx_v_i]) = (1.0 / ((double)(1.0 + exp((-(__pyx_v_var[__pyx_v_i]))))));\n",
       "  }\n",
       "</pre><pre class=\"cython line score-0\">&#xA0;<span class=\"\">40</span>: </pre>\n",
       "<pre class=\"cython line score-0\" onclick=\"(function(s){s.display=s.display==='block'?'none':'block'})(this.nextElementSibling.style)\">+<span class=\"\">41</span>:         <span class=\"k\">for</span> <span class=\"n\">i</span> <span class=\"ow\">in</span> <span class=\"nb\">range</span><span class=\"p\">(</span><span class=\"mf\">8371</span><span class=\"p\">):</span></pre>\n",
       "<pre class='cython code score-0 '>  for (__pyx_t_6 = 0; __pyx_t_6 &lt; 0x20B3; __pyx_t_6+=1) {\n",
       "    __pyx_v_i = __pyx_t_6;\n",
       "</pre><pre class=\"cython line score-0\" onclick=\"(function(s){s.display=s.display==='block'?'none':'block'})(this.nextElementSibling.style)\">+<span class=\"\">42</span>:             <span class=\"n\">answer</span> <span class=\"o\">+=</span>  <span class=\"p\">(</span> <span class=\"p\">((</span><span class=\"bp\">self</span><span class=\"o\">.</span><span class=\"n\">y</span><span class=\"p\">)[</span><span class=\"n\">i</span><span class=\"p\">])</span><span class=\"o\">*</span><span class=\"n\">log</span><span class=\"p\">(</span><span class=\"n\">sigs</span><span class=\"p\">[</span><span class=\"n\">i</span><span class=\"p\">])</span> <span class=\"o\">+</span> <span class=\"p\">(</span><span class=\"mf\">1</span> <span class=\"o\">-</span> <span class=\"p\">((</span><span class=\"bp\">self</span><span class=\"o\">.</span><span class=\"n\">y</span><span class=\"p\">)[</span><span class=\"n\">i</span><span class=\"p\">])</span> <span class=\"p\">)</span><span class=\"o\">*</span><span class=\"n\">log</span><span class=\"p\">(</span><span class=\"mf\">1</span><span class=\"o\">-</span><span class=\"n\">sigs</span><span class=\"p\">[</span><span class=\"n\">i</span><span class=\"p\">])</span> <span class=\"p\">)</span></pre>\n",
       "<pre class='cython code score-0 '>    __pyx_v_answer = (__pyx_v_answer + (((__pyx_v_self-&gt;y[__pyx_v_i]) * log((__pyx_v_sigs[__pyx_v_i]))) + ((1.0 - (__pyx_v_self-&gt;y[__pyx_v_i])) * log((1.0 - (__pyx_v_sigs[__pyx_v_i]))))));\n",
       "  }\n",
       "</pre><pre class=\"cython line score-0\">&#xA0;<span class=\"\">43</span>: </pre>\n",
       "<pre class=\"cython line score-0\" onclick=\"(function(s){s.display=s.display==='block'?'none':'block'})(this.nextElementSibling.style)\">+<span class=\"\">44</span>:         <span class=\"k\">return</span> <span class=\"n\">answer</span></pre>\n",
       "<pre class='cython code score-0 '>  __pyx_r = __pyx_v_answer;\n",
       "  goto __pyx_L0;\n",
       "</pre></div></body></html>"
      ],
      "text/plain": [
       "<IPython.core.display.HTML object>"
      ]
     },
     "execution_count": 156,
     "metadata": {
      "tags": []
     },
     "output_type": "execute_result"
    }
   ],
   "source": [
    "%%cython -a\n",
    "\n",
    "from libc.math cimport exp,log\n",
    "import cython\n",
    "\n",
    "cdef class LogVerosimilitud():\n",
    "    cdef double X[8371][56]\n",
    "    cdef double y[8371]\n",
    "\n",
    "    def __init__(self, X, y):\n",
    "        self.transform_matrix(X)\n",
    "        self.transform_array(y)\n",
    "    \n",
    "    cpdef void transform_matrix(self,matrix):\n",
    "        cdef int i,j\n",
    "        for i in range(8371):\n",
    "            for j in range(56):\n",
    "                (self.X)[i][j] = matrix[i][j] \n",
    "\n",
    "    cpdef void transform_array(self,array):\n",
    "        cdef int i\n",
    "        for i in range(8371):\n",
    "                (self.y)[i] = array[i]\n",
    "                \n",
    "    @cython.cdivision\n",
    "    cpdef double get(self,w):\n",
    "        cdef double w_c[56]\n",
    "        cdef double var[8371]\n",
    "        cdef double sigs[8371]\n",
    "        cdef double answer = 0\n",
    "        cdef int i,j\n",
    "        \n",
    "        for i in range(56):\n",
    "            w_c[i] = w[i]\n",
    "            \n",
    "        for i in range(8371):\n",
    "            var[i]=0\n",
    "            for j in range(56):\n",
    "                var[i] += ((self.X)[i][j]) * w_c[j]  \n",
    "            sigs[i] = 1 / <double>(1+ exp(-var[i]))\n",
    "        \n",
    "        for i in range(8371):\n",
    "            answer +=  ( ((self.y)[i])*log(sigs[i]) + (1 - ((self.y)[i]) )*log(1-sigs[i]) )\n",
    "            \n",
    "        return answer\n"
   ]
  },
  {
   "cell_type": "markdown",
   "metadata": {
    "colab_type": "text",
    "id": "GWgfMz5UlPGD"
   },
   "source": [
    "* Compruebe que su implementación retorna la verosimilitud ya conocida para `w_inicial`."
   ]
  },
  {
   "cell_type": "code",
   "execution_count": 0,
   "metadata": {
    "colab": {},
    "colab_type": "code",
    "id": "YG5re38LlPGE",
    "outputId": "a1e2a1b0-3407-475f-e8cd-5e725ca56860"
   },
   "outputs": [
    {
     "data": {
      "text/plain": [
       "-3270.759266887374"
      ]
     },
     "execution_count": 157,
     "metadata": {
      "tags": []
     },
     "output_type": "execute_result"
    }
   ],
   "source": [
    "v = LogVerosimilitud(X_cython,y_cython)\n",
    "v.get(w_inicial)"
   ]
  },
  {
   "cell_type": "markdown",
   "metadata": {
    "colab_type": "text",
    "id": "NioU4r__lPGJ"
   },
   "source": [
    "* Compruebe que dados los mismos inputs `X_cython` y `y_cython`, la versión de Cython es más eficaz, pero que sin embargo, la más rápida es la versión de `numpy` en los inputs de `X_mcmc` e `y_mcmc`.  "
   ]
  },
  {
   "cell_type": "code",
   "execution_count": 0,
   "metadata": {
    "colab": {},
    "colab_type": "code",
    "id": "JQVMJ9RUlPGL",
    "outputId": "d686baf8-7f85-4188-e3ea-c5db7ee65fc9"
   },
   "outputs": [
    {
     "name": "stdout",
     "output_type": "stream",
     "text": [
      "610 µs ± 32.8 µs per loop (mean ± std. dev. of 7 runs, 1000 loops each)\n"
     ]
    }
   ],
   "source": [
    "%timeit v.get(w_inicial)"
   ]
  },
  {
   "cell_type": "code",
   "execution_count": 0,
   "metadata": {
    "colab": {},
    "colab_type": "code",
    "id": "J6DFG_9GlPGP",
    "outputId": "b3cf7056-474e-40a7-b55c-9d11c0d28634"
   },
   "outputs": [
    {
     "name": "stdout",
     "output_type": "stream",
     "text": [
      "2.01 ms ± 38.1 µs per loop (mean ± std. dev. of 7 runs, 1000 loops each)\n"
     ]
    }
   ],
   "source": [
    "%timeit RegresionLogisticaMixin()._log_verosimilitud(w_inicial, X_cython, y_cython)"
   ]
  },
  {
   "cell_type": "code",
   "execution_count": 0,
   "metadata": {
    "colab": {},
    "colab_type": "code",
    "id": "gkPwiz1ZlPGT",
    "outputId": "20152c0b-d4c9-4943-dabe-d6b4b379fb93"
   },
   "outputs": [
    {
     "name": "stdout",
     "output_type": "stream",
     "text": [
      "304 µs ± 15.6 µs per loop (mean ± std. dev. of 7 runs, 1000 loops each)\n"
     ]
    }
   ],
   "source": [
    "%timeit RegresionLogisticaMixin()._log_verosimilitud(w_inicial, X_mcmc, y_mcmc)"
   ]
  },
  {
   "cell_type": "markdown",
   "metadata": {
    "colab_type": "text",
    "id": "l4hgVs3klPGV"
   },
   "source": [
    "## Bonus (sin puntaje)\n",
    "\n",
    "El valor de `w_inicial` utilizado en este ejercicio fue obtenido por medio de máxima verosimilitud. A continuación compararemos los resultados de scikit-learn, utilizando el parámetro de máxima verosimilitud con el enfoque bayesiano implementado a lo largo de esta evaluación."
   ]
  },
  {
   "cell_type": "code",
   "execution_count": 0,
   "metadata": {
    "colab": {},
    "colab_type": "code",
    "id": "NOKJbKAJlPGV"
   },
   "outputs": [],
   "source": [
    "def log_reg(X, w):\n",
    "    '''\n",
    "    Clasificador Logistico\n",
    "    '''\n",
    "    mixin = RegresionLogisticaMixin()\n",
    "    probs = mixin.sigmoide(X @ w)\n",
    "    \n",
    "    return np.round(1 + probs) - 1"
   ]
  },
  {
   "cell_type": "markdown",
   "metadata": {
    "colab_type": "text",
    "id": "PA7J-bCzlPGX"
   },
   "source": [
    "Preparar los datos del conjunto de test"
   ]
  },
  {
   "cell_type": "code",
   "execution_count": 0,
   "metadata": {
    "colab": {},
    "colab_type": "code",
    "id": "hpRZUYFmlPGX"
   },
   "outputs": [],
   "source": [
    "X_mcmc_test = col_trans.fit_transform(X_test)\n",
    "X_mcmc_test = sparse.hstack((np.ones((X_mcmc_test.shape[0], 1)), X_mcmc_test))\n",
    "y_mcmc_test = y_test.astype(int).values"
   ]
  },
  {
   "cell_type": "markdown",
   "metadata": {
    "colab_type": "text",
    "id": "wYllH3DrlPGZ"
   },
   "source": [
    "Se inicaliza el modelo bayesiano"
   ]
  },
  {
   "cell_type": "code",
   "execution_count": 0,
   "metadata": {
    "colab": {},
    "colab_type": "code",
    "id": "GeKalVHZlPGa"
   },
   "outputs": [],
   "source": [
    "_, std_inicial = stats.norm.fit(w_inicial, floc=0)\n",
    "media_prior = np.zeros(w_inicial.shape)\n",
    "std_poposal = 1e-2\n",
    "n_samples = int(1e3)\n",
    "\n",
    "rlb_v1 = RegresionLogisticaBayesianaMHV1(w_inicial, media_prior, std_inicial,\n",
    "                                         std_poposal, n_samples)\n",
    "rlb_v1.fit(X_mcmc, y_mcmc)"
   ]
  },
  {
   "cell_type": "markdown",
   "metadata": {
    "colab_type": "text",
    "id": "ELd4whgllPGc"
   },
   "source": [
    "Comparación en métricas de rendimiento"
   ]
  },
  {
   "cell_type": "code",
   "execution_count": 0,
   "metadata": {
    "colab": {},
    "colab_type": "code",
    "id": "fTgPgEXglPGd"
   },
   "outputs": [],
   "source": [
    "y_pred_sklearn = log_reg(X_mcmc_test, w_inicial)\n",
    "y_pred_rlb = rlb_v1.predict(X_mcmc_test)\n",
    "\n",
    "ac_skl = accuracy_score(y_pred_sklearn, y_test)\n",
    "f1_skl = f1_score(y_pred_sklearn, y_test)\n",
    "ac_rlb = accuracy_score(y_pred_rlb, y_test)\n",
    "f1_rlb = f1_score(y_pred_rlb, y_test)\n",
    "print('Accuracy sk-learn: ', ac_skl)\n",
    "print('F1 score sk-learn: ', f1_skl)\n",
    "print('Accuracy RLB: ', ac_rlb)\n",
    "print('F1 score RLB: ', f1_rlb)\n",
    "print(f'Ac RLB >= MLE: {ac_rlb >= ac_skl}    F1 RLB >= MLE: {f1_rlb >= f1_skl}')"
   ]
  },
  {
   "cell_type": "markdown",
   "metadata": {
    "colab_type": "text",
    "id": "54q0w_68lPGf"
   },
   "source": [
    "Para visualizar la posterior cargamos las trazas obtenidas durante el ejercicio:"
   ]
  },
  {
   "cell_type": "code",
   "execution_count": 0,
   "metadata": {
    "colab": {},
    "colab_type": "code",
    "id": "TNIpoGSLlPGf"
   },
   "outputs": [],
   "source": [
    "np_files = sorted(glob.glob('trazas/*.npy'))\n",
    "traza_concat = None\n",
    "\n",
    "for filename in np_files:\n",
    "    \n",
    "    traza = np.load(filename)\n",
    "    \n",
    "    if traza_concat is None:\n",
    "        \n",
    "        traza_concat = traza\n",
    "        \n",
    "    else:\n",
    "        \n",
    "        traza_concat = np.concatenate((traza_concat, traza), axis=0)\n",
    "        \n",
    "traza_concat.shape"
   ]
  },
  {
   "cell_type": "markdown",
   "metadata": {
    "colab_type": "text",
    "id": "o30I47JblPGh"
   },
   "source": [
    "Visualizamos la traza como la distribución."
   ]
  },
  {
   "cell_type": "code",
   "execution_count": 0,
   "metadata": {
    "colab": {},
    "colab_type": "code",
    "id": "yzpczZGslPGh"
   },
   "outputs": [],
   "source": [
    "dir_fig = 'fig'\n",
    "archivo_figura = f'{dir_fig}/prop-{std_poposal:.0e}_nsamples-{n_samples:.0e}.png'\n",
    "sobrescribe = False\n",
    "\n",
    "xx = np.arange(traza_concat.shape[0])\n",
    "w_esperado = traza_concat.mean(0)\n",
    "\n",
    "nrows, ncols = traza_concat.shape[1], 2\n",
    "fig, axes = plt.subplots(nrows, ncols, figsize=(5 * ncols, 3 * nrows), \n",
    "                         gridspec_kw={'hspace':.3})\n",
    "for i in range(nrows):\n",
    "    \n",
    "    # histograma posterior\n",
    "    ax_ = axes[i, 0]\n",
    "    ax_.set_title('Posterior w_' + str(i))\n",
    "    \n",
    "    # evita FutureWarnings en distplot\n",
    "    with warnings.catch_warnings():\n",
    "        warnings.simplefilter(\"ignore\", category=FutureWarning)\n",
    "        sns.distplot(traza_concat[:, i], ax=ax_)\n",
    "        \n",
    "    ax_.set_ylabel('frecuencia')\n",
    "    ax_.axvline(x=w_inicial[i], label='MLE', ls= '-.', c = 'r')\n",
    "    ax_.axvline(x=w_esperado[i], label = 'Esperado',ls= '--', c='black')\n",
    "    ax_.legend()\n",
    "    \n",
    "    # traza\n",
    "    ax_ = axes[i, 1]\n",
    "    ax_.scatter(x=xx, y = traza_concat[:, i], alpha=.6, s=.1)\n",
    "    ax_.set_ylabel('w_' + str(i))\n",
    "    ax_.set_title('Traza w_' + str(i))\n",
    "    \n",
    "axes[i, 0].set_xlabel('w_' + str(i));\n",
    "axes[i, 1].set_xlabel('Iteraciones'); \n",
    "if (not os.path.isfile(archivo_figura)) or sobrescribe:\n",
    "    fig.savefig(archivo_figura, bbxox_inches='tight')\n",
    "else:\n",
    "    print(f'Archivo existente,  y `sobrescribe` = {sobrescribe}')"
   ]
  }
 ],
 "metadata": {
  "colab": {
   "collapsed_sections": [],
   "name": "e2 eficiencia MCMC (1).ipynb",
   "provenance": [],
   "toc_visible": true
  },
  "kernelspec": {
   "display_name": "Python 3",
   "language": "python",
   "name": "python3"
  },
  "language_info": {
   "codemirror_mode": {
    "name": "ipython",
    "version": 3
   },
   "file_extension": ".py",
   "mimetype": "text/x-python",
   "name": "python",
   "nbconvert_exporter": "python",
   "pygments_lexer": "ipython3",
   "version": "3.7.4"
  },
  "nbTranslate": {
   "displayLangs": [
    "es",
    "en"
   ],
   "hotkey": "alt-t",
   "langInMainMenu": true,
   "sourceLang": "en",
   "targetLang": "es",
   "useGoogleTranslate": true
  },
  "toc": {
   "base_numbering": 1,
   "nav_menu": {},
   "number_sections": true,
   "sideBar": true,
   "skip_h1_title": true,
   "title_cell": "Table of Contents",
   "title_sidebar": "Contents",
   "toc_cell": false,
   "toc_position": {},
   "toc_section_display": true,
   "toc_window_display": false
  },
  "varInspector": {
   "cols": {
    "lenName": 16,
    "lenType": 16,
    "lenVar": 40
   },
   "kernels_config": {
    "python": {
     "delete_cmd_postfix": "",
     "delete_cmd_prefix": "del ",
     "library": "var_list.py",
     "varRefreshCmd": "print(var_dic_list())"
    },
    "r": {
     "delete_cmd_postfix": ") ",
     "delete_cmd_prefix": "rm(",
     "library": "var_list.r",
     "varRefreshCmd": "cat(var_dic_list()) "
    }
   },
   "types_to_exclude": [
    "module",
    "function",
    "builtin_function_or_method",
    "instance",
    "_Feature"
   ],
   "window_display": false
  }
 },
 "nbformat": 4,
 "nbformat_minor": 1
}
